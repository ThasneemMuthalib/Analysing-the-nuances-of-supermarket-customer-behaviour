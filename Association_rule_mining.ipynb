{
  "cells": [
    {
      "cell_type": "markdown",
      "metadata": {
        "id": "-ViQtddCud2I"
      },
      "source": [
        "# Importing the libraries"
      ]
    },
    {
      "cell_type": "code",
      "execution_count": null,
      "metadata": {
        "colab": {
          "base_uri": "https://localhost:8080/"
        },
        "id": "EAmE8W-lIuS4",
        "outputId": "fffca114-78a2-43bd-ca53-bb60fb647a85"
      },
      "outputs": [
        {
          "output_type": "stream",
          "name": "stdout",
          "text": [
            "Looking in indexes: https://pypi.org/simple, https://us-python.pkg.dev/colab-wheels/public/simple/\n",
            "Requirement already satisfied: mlxtend in /usr/local/lib/python3.9/dist-packages (0.14.0)\n",
            "Requirement already satisfied: numpy>=1.10.4 in /usr/local/lib/python3.9/dist-packages (from mlxtend) (1.22.4)\n",
            "Requirement already satisfied: matplotlib>=1.5.1 in /usr/local/lib/python3.9/dist-packages (from mlxtend) (3.5.3)\n",
            "Requirement already satisfied: scipy>=0.17 in /usr/local/lib/python3.9/dist-packages (from mlxtend) (1.10.1)\n",
            "Requirement already satisfied: pandas>=0.17.1 in /usr/local/lib/python3.9/dist-packages (from mlxtend) (1.3.5)\n",
            "Requirement already satisfied: setuptools in /usr/local/lib/python3.9/dist-packages (from mlxtend) (57.4.0)\n",
            "Requirement already satisfied: scikit-learn>=0.18 in /usr/local/lib/python3.9/dist-packages (from mlxtend) (1.2.1)\n",
            "Requirement already satisfied: pillow>=6.2.0 in /usr/local/lib/python3.9/dist-packages (from matplotlib>=1.5.1->mlxtend) (8.4.0)\n",
            "Requirement already satisfied: packaging>=20.0 in /usr/local/lib/python3.9/dist-packages (from matplotlib>=1.5.1->mlxtend) (23.0)\n",
            "Requirement already satisfied: kiwisolver>=1.0.1 in /usr/local/lib/python3.9/dist-packages (from matplotlib>=1.5.1->mlxtend) (1.4.4)\n",
            "Requirement already satisfied: fonttools>=4.22.0 in /usr/local/lib/python3.9/dist-packages (from matplotlib>=1.5.1->mlxtend) (4.39.0)\n",
            "Requirement already satisfied: python-dateutil>=2.7 in /usr/local/lib/python3.9/dist-packages (from matplotlib>=1.5.1->mlxtend) (2.8.2)\n",
            "Requirement already satisfied: cycler>=0.10 in /usr/local/lib/python3.9/dist-packages (from matplotlib>=1.5.1->mlxtend) (0.11.0)\n",
            "Requirement already satisfied: pyparsing>=2.2.1 in /usr/local/lib/python3.9/dist-packages (from matplotlib>=1.5.1->mlxtend) (3.0.9)\n",
            "Requirement already satisfied: pytz>=2017.3 in /usr/local/lib/python3.9/dist-packages (from pandas>=0.17.1->mlxtend) (2022.7.1)\n",
            "Requirement already satisfied: threadpoolctl>=2.0.0 in /usr/local/lib/python3.9/dist-packages (from scikit-learn>=0.18->mlxtend) (3.1.0)\n",
            "Requirement already satisfied: joblib>=1.1.1 in /usr/local/lib/python3.9/dist-packages (from scikit-learn>=0.18->mlxtend) (1.2.0)\n",
            "Requirement already satisfied: six>=1.5 in /usr/local/lib/python3.9/dist-packages (from python-dateutil>=2.7->matplotlib>=1.5.1->mlxtend) (1.15.0)\n"
          ]
        }
      ],
      "source": [
        "!pip install mlxtend"
      ]
    },
    {
      "cell_type": "code",
      "execution_count": null,
      "metadata": {
        "id": "R0LTgWTbcAm0"
      },
      "outputs": [],
      "source": [
        "import pandas as pd\n",
        "import numpy as np\n",
        "import matplotlib.pyplot as plt\n",
        "import seaborn as sns\n",
        "from mlxtend.frequent_patterns import association_rules\n",
        "from mlxtend.frequent_patterns import fpgrowth\n",
        "from mlxtend.frequent_patterns import apriori\n",
        "import time"
      ]
    },
    {
      "cell_type": "markdown",
      "metadata": {
        "id": "kAUogUbE9QBC"
      },
      "source": [
        "# Import the dataset"
      ]
    },
    {
      "cell_type": "code",
      "execution_count": null,
      "metadata": {
        "id": "04y9ef2msx7f",
        "scrolled": true
      },
      "outputs": [],
      "source": [
        "df = pd.read_csv('1.categorized_noOutlier.csv')\n",
        "df.drop('Unnamed: 0', axis=1, inplace=True)\n",
        "df.head()"
      ]
    },
    {
      "cell_type": "code",
      "execution_count": null,
      "metadata": {
        "id": "S0MfSBF_GvGJ"
      },
      "outputs": [],
      "source": [
        "df['qty'] = df['qty'].astype(float)\n",
        "df['amount'] = df['amount'].astype(float)\n",
        "df.head()"
      ]
    },
    {
      "cell_type": "code",
      "execution_count": null,
      "metadata": {
        "id": "qJkJxuRGGvGJ",
        "outputId": "a8762748-f6ed-4c22-c529-e3bfcd889c07"
      },
      "outputs": [
        {
          "data": {
            "text/plain": [
              "4441"
            ]
          },
          "execution_count": 4,
          "metadata": {},
          "output_type": "execute_result"
        }
      ],
      "source": [
        "df['item_code'].nunique()"
      ]
    },
    {
      "cell_type": "code",
      "execution_count": null,
      "metadata": {
        "id": "5QLKoUdzGvGK",
        "outputId": "cc948b4a-9b87-4ddb-a372-60551b3a8026"
      },
      "outputs": [
        {
          "data": {
            "text/plain": [
              "22582"
            ]
          },
          "execution_count": 4,
          "metadata": {},
          "output_type": "execute_result"
        }
      ],
      "source": [
        "df['invoice'].nunique()"
      ]
    },
    {
      "cell_type": "code",
      "execution_count": null,
      "metadata": {
        "id": "DtSrloDRGvGK",
        "outputId": "c8a57558-416c-4843-c266-fdf3a7575eec"
      },
      "outputs": [
        {
          "data": {
            "text/plain": [
              "5944"
            ]
          },
          "execution_count": 5,
          "metadata": {},
          "output_type": "execute_result"
        }
      ],
      "source": [
        "df['description'].nunique()"
      ]
    },
    {
      "cell_type": "code",
      "execution_count": null,
      "metadata": {
        "id": "9vBUYjRyGvGL",
        "outputId": "1144b684-a975-4f20-83f3-8cd99a8df23d"
      },
      "outputs": [
        {
          "name": "stdout",
          "output_type": "stream",
          "text": [
            "max:  23000.0\n",
            "min:  0.0\n"
          ]
        }
      ],
      "source": [
        "print('max: ', df['amount'].max())\n",
        "print('min: ', df['amount'].min())\n",
        "# print('range: ', df['unit_price'].max() - df['unit_price'].min())"
      ]
    },
    {
      "cell_type": "code",
      "execution_count": null,
      "metadata": {
        "id": "TTCeb5DKGvGL",
        "outputId": "c87d2047-62f7-4084-9777-b8df1ae7a324"
      },
      "outputs": [
        {
          "data": {
            "text/plain": [
              "array(['BISCUIT', 'BEVERAGE', 'INCENSE', 'MILK POWDER', 'CLEANSERS',\n",
              "       'YOGHURT', 'CEREAL', 'DRIED FRUITS', 'INSTANT FOOD',\n",
              "       'CONFECTIONERY', 'SNACKS', 'BABY PRODUCTS', 'SUGAR', 'VEGETABLES',\n",
              "       'EGGS', 'SPREADS', 'PASTA NOODLES', 'DRY RATIONS', 'PERSONAL CARE',\n",
              "       'SAUCE', 'TREACLE', 'DESSERT', 'SEASONING', 'FRUITS', 'HOUSEHOLD',\n",
              "       'FLOUR', 'FISH', 'COOKING OIL', 'STATIONERY', 'MEDICINE', 'BAKERY',\n",
              "       'MEAT', 'BREAD', 'DRINKING MILK', 'FROZEN', 'MEAL ACCOMPANIMENTS',\n",
              "       'GARNISH', 'ESSENCE', 'PET CARE'], dtype=object)"
            ]
          },
          "execution_count": 145,
          "metadata": {},
          "output_type": "execute_result"
        }
      ],
      "source": [
        "df['product'].unique()"
      ]
    },
    {
      "cell_type": "code",
      "execution_count": null,
      "metadata": {
        "colab": {
          "base_uri": "https://localhost:8080/"
        },
        "id": "t-zLjAU5ccbC",
        "outputId": "3ece9221-4ae5-4e04-d699-ae4a4d878ed2"
      },
      "outputs": [
        {
          "name": "stdout",
          "output_type": "stream",
          "text": [
            "<class 'pandas.core.frame.DataFrame'>\n",
            "RangeIndex: 99314 entries, 0 to 99313\n",
            "Data columns (total 15 columns):\n",
            " #   Column        Non-Null Count  Dtype  \n",
            "---  ------        --------------  -----  \n",
            " 0   invoice       99314 non-null  int64  \n",
            " 1   item_code     99314 non-null  int64  \n",
            " 2   bill_date     99314 non-null  object \n",
            " 3   month         99314 non-null  int64  \n",
            " 4   date          99314 non-null  int64  \n",
            " 5   description   99314 non-null  object \n",
            " 6   product       99314 non-null  object \n",
            " 7   brand         99314 non-null  object \n",
            " 8   unit_price    99314 non-null  object \n",
            " 9   qty           99314 non-null  float64\n",
            " 10  discount      99314 non-null  object \n",
            " 11  amount        99314 non-null  float64\n",
            " 12  year          99314 non-null  int64  \n",
            " 13  invoice_date  99314 non-null  object \n",
            " 14  day           99314 non-null  object \n",
            "dtypes: float64(2), int64(5), object(8)\n",
            "memory usage: 11.4+ MB\n"
          ]
        }
      ],
      "source": [
        "df.info()"
      ]
    },
    {
      "cell_type": "code",
      "execution_count": null,
      "metadata": {
        "id": "jTUpTBcrGvGM"
      },
      "outputs": [],
      "source": [
        "df['item'] = df['brand'] + ' ' + df['product']\n",
        "df.head()"
      ]
    },
    {
      "cell_type": "code",
      "execution_count": null,
      "metadata": {
        "id": "TiMQOxVEGvGN",
        "outputId": "f11ab2dd-9313-4696-9618-0384950e962b"
      },
      "outputs": [
        {
          "data": {
            "text/plain": [
              "999"
            ]
          },
          "execution_count": 28,
          "metadata": {},
          "output_type": "execute_result"
        }
      ],
      "source": [
        "df['item'].nunique()"
      ]
    },
    {
      "cell_type": "markdown",
      "metadata": {
        "id": "bXEHmqyd1dDQ"
      },
      "source": [
        "# Apriori Implementation - join items"
      ]
    },
    {
      "cell_type": "code",
      "execution_count": null,
      "metadata": {
        "id": "eISuMtJKu0CI"
      },
      "outputs": [],
      "source": [
        "df2 = df[['invoice','item']]"
      ]
    },
    {
      "cell_type": "code",
      "execution_count": null,
      "metadata": {
        "id": "i82NW1TvvEKg"
      },
      "outputs": [],
      "source": [
        "df2.head()"
      ]
    },
    {
      "cell_type": "markdown",
      "metadata": {
        "id": "_vSHu4dE0ibx"
      },
      "source": [
        "get 2 copies of the original dataset"
      ]
    },
    {
      "cell_type": "code",
      "execution_count": null,
      "metadata": {
        "id": "fIlBh7CocdC3"
      },
      "outputs": [],
      "source": [
        "data = df2.copy()\n",
        "data1 = data.copy()"
      ]
    },
    {
      "cell_type": "code",
      "execution_count": null,
      "metadata": {
        "id": "vNvrsH-zcdE-"
      },
      "outputs": [],
      "source": [
        "newdata = pd.get_dummies(data['item'])"
      ]
    },
    {
      "cell_type": "markdown",
      "metadata": {
        "id": "FNEeU68_0p3v"
      },
      "source": [
        "newdata has only the dummy variables"
      ]
    },
    {
      "cell_type": "markdown",
      "metadata": {
        "id": "qellSLN60uf_"
      },
      "source": [
        "drop the *product* column from data1"
      ]
    },
    {
      "cell_type": "code",
      "execution_count": null,
      "metadata": {
        "id": "fOAsY9MhcdLq"
      },
      "outputs": [],
      "source": [
        "data1.drop('item', axis=1, inplace=True)"
      ]
    },
    {
      "cell_type": "code",
      "execution_count": null,
      "metadata": {
        "colab": {
          "base_uri": "https://localhost:8080/",
          "height": 206
        },
        "id": "nvYNoUbUcdNf",
        "outputId": "a30d42a0-5927-42fd-fc1a-204746ba266b"
      },
      "outputs": [
        {
          "data": {
            "text/html": [
              "<div>\n",
              "<style scoped>\n",
              "    .dataframe tbody tr th:only-of-type {\n",
              "        vertical-align: middle;\n",
              "    }\n",
              "\n",
              "    .dataframe tbody tr th {\n",
              "        vertical-align: top;\n",
              "    }\n",
              "\n",
              "    .dataframe thead th {\n",
              "        text-align: right;\n",
              "    }\n",
              "</style>\n",
              "<table border=\"1\" class=\"dataframe\">\n",
              "  <thead>\n",
              "    <tr style=\"text-align: right;\">\n",
              "      <th></th>\n",
              "      <th>invoice</th>\n",
              "    </tr>\n",
              "  </thead>\n",
              "  <tbody>\n",
              "    <tr>\n",
              "      <th>0</th>\n",
              "      <td>1000001</td>\n",
              "    </tr>\n",
              "    <tr>\n",
              "      <th>1</th>\n",
              "      <td>1000001</td>\n",
              "    </tr>\n",
              "    <tr>\n",
              "      <th>2</th>\n",
              "      <td>1000001</td>\n",
              "    </tr>\n",
              "    <tr>\n",
              "      <th>3</th>\n",
              "      <td>1000002</td>\n",
              "    </tr>\n",
              "    <tr>\n",
              "      <th>4</th>\n",
              "      <td>1000002</td>\n",
              "    </tr>\n",
              "  </tbody>\n",
              "</table>\n",
              "</div>"
            ],
            "text/plain": [
              "   invoice\n",
              "0  1000001\n",
              "1  1000001\n",
              "2  1000001\n",
              "3  1000002\n",
              "4  1000002"
            ]
          },
          "execution_count": 10,
          "metadata": {},
          "output_type": "execute_result"
        }
      ],
      "source": [
        "data1.head()"
      ]
    },
    {
      "cell_type": "markdown",
      "metadata": {
        "id": "HsHVKN6c05Un"
      },
      "source": [
        "join the dummy variables table *newdata* to data1"
      ]
    },
    {
      "cell_type": "code",
      "execution_count": null,
      "metadata": {
        "id": "AfDisP1fcdPJ"
      },
      "outputs": [],
      "source": [
        "data1 = data1.join(newdata)"
      ]
    },
    {
      "cell_type": "code",
      "execution_count": null,
      "metadata": {
        "id": "qBGVleRAcdRU"
      },
      "outputs": [],
      "source": [
        "products = df['item'].unique()"
      ]
    },
    {
      "cell_type": "markdown",
      "metadata": {
        "id": "JAd34Uqc1xJv"
      },
      "source": [
        "group the products so that products of each bill will be displayed.  "
      ]
    },
    {
      "cell_type": "markdown",
      "metadata": {
        "id": "TH1PlW_42R2j"
      },
      "source": [
        "## groupby dataframe as *newitemsdf*"
      ]
    },
    {
      "cell_type": "code",
      "execution_count": null,
      "metadata": {
        "id": "xl7Hymb3cdTA"
      },
      "outputs": [],
      "source": [
        "newitemsdf = data1.groupby(['invoice'])[products[:]].sum()"
      ]
    },
    {
      "cell_type": "markdown",
      "metadata": {
        "id": "IKj3Shr32kY6"
      },
      "source": [
        "only the transaction items are visible "
      ]
    },
    {
      "cell_type": "code",
      "execution_count": null,
      "metadata": {
        "id": "NwABhEJNcdab"
      },
      "outputs": [],
      "source": [
        "newitemsdf = newitemsdf.reset_index()[products]"
      ]
    },
    {
      "cell_type": "code",
      "execution_count": null,
      "metadata": {
        "colab": {
          "base_uri": "https://localhost:8080/"
        },
        "id": "bf96DNArSxpK",
        "outputId": "fa0656b2-d11c-46e3-c6ac-12302202a762"
      },
      "outputs": [
        {
          "data": {
            "text/plain": [
              "22582"
            ]
          },
          "execution_count": 37,
          "metadata": {},
          "output_type": "execute_result"
        }
      ],
      "source": [
        "data1['invoice'].nunique()"
      ]
    },
    {
      "cell_type": "markdown",
      "metadata": {
        "id": "7ffBJD8tGvGV"
      },
      "source": [
        "# For discounts and promotions"
      ]
    },
    {
      "cell_type": "code",
      "execution_count": null,
      "metadata": {
        "id": "dsnFglt_GvGW"
      },
      "outputs": [],
      "source": [
        "def func2(data):\n",
        "  for i in products:\n",
        "    if data[i] > 0:\n",
        "      # if the cell is greater than 0, replace it by 1. \n",
        "      data[i] = 1\n",
        "  return data"
      ]
    },
    {
      "cell_type": "code",
      "execution_count": null,
      "metadata": {
        "id": "R9AxuinxGvGX"
      },
      "outputs": [],
      "source": [
        "newitemsdf3=newitemsdf.apply(func2, axis=1)"
      ]
    },
    {
      "cell_type": "code",
      "execution_count": null,
      "metadata": {
        "id": "fiWs3ImiGvGX",
        "outputId": "ae9d7a08-1032-401f-e983-5dc13252c123"
      },
      "outputs": [
        {
          "name": "stdout",
          "output_type": "stream",
          "text": [
            "<class 'pandas.core.frame.DataFrame'>\n",
            "RangeIndex: 22582 entries, 0 to 22581\n",
            "Columns: 999 entries, MALIBAN BISCUIT to DUM DUM SUGAR\n",
            "dtypes: uint8(999)\n",
            "memory usage: 21.5 MB\n"
          ]
        }
      ],
      "source": [
        "newitemsdf3.info()"
      ]
    },
    {
      "cell_type": "markdown",
      "metadata": {
        "id": "Rgm_S7uXGvGY"
      },
      "source": [
        "# 1 itemset min support - item"
      ]
    },
    {
      "cell_type": "code",
      "execution_count": null,
      "metadata": {
        "id": "m8CvmYv7GvGY",
        "outputId": "45294983-2d17-4dd5-fd5f-445ab26c4c0b"
      },
      "outputs": [
        {
          "name": "stderr",
          "output_type": "stream",
          "text": [
            "C:\\Users\\HP\\anaconda3\\lib\\site-packages\\mlxtend\\frequent_patterns\\fpcommon.py:111: DeprecationWarning: DataFrames with non-bool types result in worse computationalperformance and their support might be discontinued in the future.Please use a DataFrame with bool type\n",
            "  warnings.warn(\n"
          ]
        }
      ],
      "source": [
        "fp_len_1itemset = fpgrowth(newitemsdf3, min_support=0.00004, use_colnames=True, max_len=1)\n",
        "# these items should be at least in 1 transaction from the total "
      ]
    },
    {
      "cell_type": "code",
      "execution_count": null,
      "metadata": {
        "id": "neT_TIt5GvGZ",
        "outputId": "4ddfa7bb-b0d2-41c4-db5b-62496af97b10"
      },
      "outputs": [
        {
          "data": {
            "text/plain": [
              "Text(0.5, 0, 'Support')"
            ]
          },
          "execution_count": 159,
          "metadata": {},
          "output_type": "execute_result"
        },
        {
          "data": {
            "image/png": "[encoded data removed]",
            "text/plain": [
              "<Figure size 432x288 with 1 Axes>"
            ]
          },
          "metadata": {
            "needs_background": "light"
          },
          "output_type": "display_data"
        }
      ],
      "source": [
        "fp_len_1itemset['support'].plot(kind='hist', bins=60)\n",
        "plt.title('Support of all 999 items')\n",
        "plt.xlabel('Support')\n",
        "# supports of items are not normally distributed. hence median of these supports were considered as the threshold support "
      ]
    },
    {
      "cell_type": "code",
      "execution_count": null,
      "metadata": {
        "id": "YPMtMG-VGvGZ",
        "outputId": "74c6563c-bb0c-4c38-9aba-86805ff8039b"
      },
      "outputs": [
        {
          "data": {
            "text/plain": [
              "3833.000934"
            ]
          },
          "execution_count": 150,
          "metadata": {},
          "output_type": "execute_result"
        }
      ],
      "source": [
        "0.169737*22582"
      ]
    },
    {
      "cell_type": "code",
      "execution_count": null,
      "metadata": {
        "id": "-dLu7zbDGvGZ",
        "outputId": "e1611f7e-c44e-47a7-d216-57766af077b2"
      },
      "outputs": [
        {
          "data": {
            "text/plain": [
              "0.003262007911728927"
            ]
          },
          "execution_count": 29,
          "metadata": {},
          "output_type": "execute_result"
        }
      ],
      "source": [
        "fp_len_1itemset['support'].mean()"
      ]
    },
    {
      "cell_type": "code",
      "execution_count": null,
      "metadata": {
        "id": "fx2spw6jGvGZ",
        "outputId": "1c2f0d1f-6c8e-4b65-b235-b3ef3d473190"
      },
      "outputs": [
        {
          "data": {
            "text/plain": [
              "73.61731999999999"
            ]
          },
          "execution_count": 23,
          "metadata": {},
          "output_type": "execute_result"
        }
      ],
      "source": [
        "22582*0.00326 # average number of products sold count = 74"
      ]
    },
    {
      "cell_type": "code",
      "execution_count": null,
      "metadata": {
        "id": "wNniSZRMGvGa",
        "outputId": "08663a53-2841-4add-c0b6-5c9eeb1feeaa"
      },
      "outputs": [
        {
          "data": {
            "text/plain": [
              "0.0007085289168364184"
            ]
          },
          "execution_count": 30,
          "metadata": {},
          "output_type": "execute_result"
        }
      ],
      "source": [
        "fp_len_1itemset['support'].median()"
      ]
    },
    {
      "cell_type": "code",
      "execution_count": null,
      "metadata": {
        "id": "j-48eSuJGvGa",
        "outputId": "6c36ee55-1a92-4c43-ac17-27f677be00ed"
      },
      "outputs": [
        {
          "data": {
            "text/plain": [
              "16.0"
            ]
          },
          "execution_count": 160,
          "metadata": {},
          "output_type": "execute_result"
        }
      ],
      "source": [
        "0.0007085289168364184*22582"
      ]
    },
    {
      "cell_type": "markdown",
      "metadata": {
        "id": "aklaquXSGvGb"
      },
      "source": [
        "# 0.0007 as min support - median support of items"
      ]
    },
    {
      "cell_type": "code",
      "execution_count": null,
      "metadata": {
        "id": "9E5HUb7UGvGb",
        "outputId": "8537a125-1f63-4ccc-a9ea-b66a5ee7c26b"
      },
      "outputs": [
        {
          "name": "stderr",
          "output_type": "stream",
          "text": [
            "C:\\Users\\HP\\anaconda3\\lib\\site-packages\\mlxtend\\frequent_patterns\\fpcommon.py:111: DeprecationWarning: DataFrames with non-bool types result in worse computationalperformance and their support might be discontinued in the future.Please use a DataFrame with bool type\n",
            "  warnings.warn(\n"
          ]
        },
        {
          "data": {
            "text/plain": [
              "159.3921341896057"
            ]
          },
          "execution_count": 162,
          "metadata": {},
          "output_type": "execute_result"
        }
      ],
      "source": [
        "t1=time.time()\n",
        "apriori(newitemsdf3, min_support=0.0007, use_colnames=True, max_len=2)\n",
        "t2=time.time()\n",
        "(t2-t1)"
      ]
    },
    {
      "cell_type": "code",
      "execution_count": null,
      "metadata": {
        "id": "FGmnv4QEGvGb",
        "outputId": "e54136c9-ba9e-414f-ba82-2cd8284aa8a6"
      },
      "outputs": [
        {
          "name": "stderr",
          "output_type": "stream",
          "text": [
            "C:\\Users\\HP\\anaconda3\\lib\\site-packages\\mlxtend\\frequent_patterns\\fpcommon.py:111: DeprecationWarning: DataFrames with non-bool types result in worse computationalperformance and their support might be discontinued in the future.Please use a DataFrame with bool type\n",
            "  warnings.warn(\n"
          ]
        },
        {
          "data": {
            "text/plain": [
              "1.8652663230895996"
            ]
          },
          "execution_count": 161,
          "metadata": {},
          "output_type": "execute_result"
        }
      ],
      "source": [
        "t1=time.time()\n",
        "fpgrowth(newitemsdf3, min_support=0.0007, use_colnames=True, max_len=2)\n",
        "t2=time.time()\n",
        "(t2-t1)"
      ]
    },
    {
      "cell_type": "code",
      "execution_count": null,
      "metadata": {
        "id": "NJ0BxppeGvGb",
        "outputId": "7ef68c8d-0617-493b-9324-7f0359eed255"
      },
      "outputs": [
        {
          "name": "stderr",
          "output_type": "stream",
          "text": [
            "C:\\Users\\HP\\anaconda3\\lib\\site-packages\\mlxtend\\frequent_patterns\\fpcommon.py:111: DeprecationWarning: DataFrames with non-bool types result in worse computationalperformance and their support might be discontinued in the future.Please use a DataFrame with bool type\n",
            "  warnings.warn(\n"
          ]
        }
      ],
      "source": [
        "fp_items = fpgrowth(newitemsdf3, min_support=0.0007, use_colnames=True, max_len=2)\n",
        "# discounts and promotions are applied for 2 items at a time"
      ]
    },
    {
      "cell_type": "code",
      "execution_count": null,
      "metadata": {
        "id": "kdht95X1GvGc"
      },
      "outputs": [],
      "source": [
        "fp_rules_sup0007_sort = fp_rules_sup0007.sort_values(by=['confidence', 'lift'], ascending=False)"
      ]
    },
    {
      "cell_type": "code",
      "execution_count": null,
      "metadata": {
        "id": "yIpB7N-EGvGc"
      },
      "outputs": [],
      "source": [
        "fp_rules_sup0007_sort.to_csv('fp_rules_sup0007_sort.csv')"
      ]
    },
    {
      "cell_type": "code",
      "execution_count": null,
      "metadata": {
        "colab": {
          "base_uri": "https://localhost:8080/"
        },
        "id": "KksJY35BGvGc",
        "outputId": "7861a4d4-354a-4adc-cab4-82931e52c711"
      },
      "outputs": [
        {
          "data": {
            "text/plain": [
              "(4246, 9)"
            ]
          },
          "execution_count": 6,
          "metadata": {},
          "output_type": "execute_result"
        }
      ],
      "source": [
        "fp_rules_sup0007_sort.shape"
      ]
    },
    {
      "cell_type": "markdown",
      "source": [
        "Remove the vegetables and fruits since they cannot be given discounts with other items which can be kept for a long time "
      ],
      "metadata": {
        "id": "bNsaeyUIn2qm"
      }
    },
    {
      "cell_type": "code",
      "execution_count": null,
      "metadata": {
        "id": "xkxmoCVUGvGc"
      },
      "outputs": [],
      "source": [
        "y = fp_rules_sup0007_sort[fp_rules_sup0007_sort['antecedents']!='UNBRANDED VEGETABLES']\n",
        "y = y[y['consequents']!='UNBRANDED VEGETABLES']\n",
        "y = y[y['antecedents']!='UNBRANDED FRUITS']\n",
        "y = y[y['consequents']!='UNBRANDED FRUITS']\n",
        "y"
      ]
    },
    {
      "cell_type": "markdown",
      "source": [
        "The highly related items can be extracted with these measures"
      ],
      "metadata": {
        "id": "oBvgn9jOzFbV"
      }
    },
    {
      "cell_type": "code",
      "execution_count": null,
      "metadata": {
        "id": "W-W251wGXB85"
      },
      "outputs": [],
      "source": [
        "y.sort_values(by=['support'], ascending=False).head()"
      ]
    },
    {
      "cell_type": "code",
      "execution_count": null,
      "metadata": {
        "id": "Sl5Hf0dVXB86"
      },
      "outputs": [],
      "source": [
        "y.sort_values(by=['lift'], ascending=False).head()"
      ]
    },
    {
      "cell_type": "code",
      "execution_count": null,
      "metadata": {
        "id": "a8dEPBS_XB86"
      },
      "outputs": [],
      "source": [
        "y.sort_values(by=['leverage'], ascending=False).head()"
      ]
    },
    {
      "cell_type": "code",
      "execution_count": null,
      "metadata": {
        "id": "JkHEQAm1XB86"
      },
      "outputs": [],
      "source": [
        "y.sort_values(by=['conviction'], ascending=False).head()"
      ]
    },
    {
      "cell_type": "code",
      "execution_count": null,
      "metadata": {
        "id": "uHzUfxZHXB87"
      },
      "outputs": [],
      "source": [
        "y.sort_values(by=['antecedent support'], ascending=False).head()"
      ]
    },
    {
      "cell_type": "code",
      "execution_count": null,
      "metadata": {
        "id": "voNh--FGXB87"
      },
      "outputs": [],
      "source": [
        "y.sort_values(by=['consequent support'], ascending=False).head()"
      ]
    },
    {
      "cell_type": "markdown",
      "source": [
        "rule visualization for join items"
      ],
      "metadata": {
        "id": "tnko3dcG4Ev1"
      }
    },
    {
      "cell_type": "code",
      "execution_count": null,
      "metadata": {
        "id": "2BLDXK0wI9qr"
      },
      "outputs": [],
      "source": [
        "import networkx as nx"
      ]
    },
    {
      "cell_type": "code",
      "execution_count": null,
      "metadata": {
        "id": "UfoEmlQkIpgU"
      },
      "outputs": [],
      "source": [
        "# create a network graph\n",
        "G = nx.from_pandas_edgelist(rule1, source='antecedents', target='consequents', edge_attr='confidence')\n",
        "\n",
        "# set node positions using Kamada-Kawai algorithm\n",
        "pos = nx.kamada_kawai_layout(G)\n",
        "\n",
        "# draw network graph\n",
        "nx.draw(G, pos, with_labels=True, node_size=200, node_color='lightblue', font_size=11, edge_cmap=plt.cm.Reds)\n",
        "\n",
        "# add edge labels\n",
        "labels = nx.get_edge_attributes(G, 'confidence')\n",
        "nx.draw_networkx_edge_labels(G, pos, edge_labels=labels, font_size=11)\n",
        "\n",
        "# set the axis limits and show the plot\n",
        "ax = plt.gca()\n",
        "ax.set_xlim([min(x for x,y in pos.values())-0.1, max(x for x,y in pos.values())+0.1])\n",
        "ax.set_ylim([min(y for x,y in pos.values())-0.1, max(y for x,y in pos.values())+0.1])\n",
        "plt.axis('on')\n",
        "plt.show()\n",
        "# # show the graph\n",
        "# plt.show()\n"
      ]
    },
    {
      "cell_type": "code",
      "execution_count": null,
      "metadata": {
        "id": "4P884iMhH5O_"
      },
      "outputs": [],
      "source": [
        "y.to_csv('brand_product_wise_associations_no_vegfru.csv')"
      ]
    },
    {
      "cell_type": "markdown",
      "metadata": {
        "id": "O63KFOoyF3E2"
      },
      "source": [
        "# Apriori Implementation - for product display"
      ]
    },
    {
      "cell_type": "markdown",
      "metadata": {
        "id": "hvYB339GF3E3"
      },
      "source": [
        "get 2 copies of the original dataset"
      ]
    },
    {
      "cell_type": "code",
      "execution_count": null,
      "metadata": {
        "id": "ANszJf2MF3E3"
      },
      "outputs": [],
      "source": [
        "data_ = df.copy()\n",
        "data1_ = data_.copy()"
      ]
    },
    {
      "cell_type": "code",
      "execution_count": null,
      "metadata": {
        "id": "qM2euzlcF3E3"
      },
      "outputs": [],
      "source": [
        "newdata_ = pd.get_dummies(data_['product'])"
      ]
    },
    {
      "cell_type": "code",
      "execution_count": null,
      "metadata": {
        "colab": {
          "base_uri": "https://localhost:8080/",
          "height": 223
        },
        "id": "ogNeZlzCF3E4",
        "outputId": "8af64b05-347b-4366-ce28-ff828fe2fccf"
      },
      "outputs": [
        {
          "output_type": "execute_result",
          "data": {
            "text/plain": [
              "   BABY PRODUCTS  BAKERY  BEVERAGE  BISCUIT  BREAD  CEREAL  CLEANSERS  \\\n",
              "0              0       0         0        1      0       0          0   \n",
              "1              0       0         0        1      0       0          0   \n",
              "\n",
              "   CONFECTIONERY  COOKING OIL  DESSERT  ...  PET CARE  SAUCE  SEASONING  \\\n",
              "0              0            0        0  ...         0      0          0   \n",
              "1              0            0        0  ...         0      0          0   \n",
              "\n",
              "   SNACKS  SPREADS  STATIONERY  SUGAR  TREACLE  VEGETABLES  YOGHURT  \n",
              "0       0        0           0      0        0           0        0  \n",
              "1       0        0           0      0        0           0        0  \n",
              "\n",
              "[2 rows x 39 columns]"
            ],
            "text/html": [
              "\n",
              "  <div id=\"df-7b5f9313-6268-47eb-9dba-46c6c5effb4a\">\n",
              "    <div class=\"colab-df-container\">\n",
              "      <div>\n",
              "<style scoped>\n",
              "    .dataframe tbody tr th:only-of-type {\n",
              "        vertical-align: middle;\n",
              "    }\n",
              "\n",
              "    .dataframe tbody tr th {\n",
              "        vertical-align: top;\n",
              "    }\n",
              "\n",
              "    .dataframe thead th {\n",
              "        text-align: right;\n",
              "    }\n",
              "</style>\n",
              "<table border=\"1\" class=\"dataframe\">\n",
              "  <thead>\n",
              "    <tr style=\"text-align: right;\">\n",
              "      <th></th>\n",
              "      <th>BABY PRODUCTS</th>\n",
              "      <th>BAKERY</th>\n",
              "      <th>BEVERAGE</th>\n",
              "      <th>BISCUIT</th>\n",
              "      <th>BREAD</th>\n",
              "      <th>CEREAL</th>\n",
              "      <th>CLEANSERS</th>\n",
              "      <th>CONFECTIONERY</th>\n",
              "      <th>COOKING OIL</th>\n",
              "      <th>DESSERT</th>\n",
              "      <th>...</th>\n",
              "      <th>PET CARE</th>\n",
              "      <th>SAUCE</th>\n",
              "      <th>SEASONING</th>\n",
              "      <th>SNACKS</th>\n",
              "      <th>SPREADS</th>\n",
              "      <th>STATIONERY</th>\n",
              "      <th>SUGAR</th>\n",
              "      <th>TREACLE</th>\n",
              "      <th>VEGETABLES</th>\n",
              "      <th>YOGHURT</th>\n",
              "    </tr>\n",
              "  </thead>\n",
              "  <tbody>\n",
              "    <tr>\n",
              "      <th>0</th>\n",
              "      <td>0</td>\n",
              "      <td>0</td>\n",
              "      <td>0</td>\n",
              "      <td>1</td>\n",
              "      <td>0</td>\n",
              "      <td>0</td>\n",
              "      <td>0</td>\n",
              "      <td>0</td>\n",
              "      <td>0</td>\n",
              "      <td>0</td>\n",
              "      <td>...</td>\n",
              "      <td>0</td>\n",
              "      <td>0</td>\n",
              "      <td>0</td>\n",
              "      <td>0</td>\n",
              "      <td>0</td>\n",
              "      <td>0</td>\n",
              "      <td>0</td>\n",
              "      <td>0</td>\n",
              "      <td>0</td>\n",
              "      <td>0</td>\n",
              "    </tr>\n",
              "    <tr>\n",
              "      <th>1</th>\n",
              "      <td>0</td>\n",
              "      <td>0</td>\n",
              "      <td>0</td>\n",
              "      <td>1</td>\n",
              "      <td>0</td>\n",
              "      <td>0</td>\n",
              "      <td>0</td>\n",
              "      <td>0</td>\n",
              "      <td>0</td>\n",
              "      <td>0</td>\n",
              "      <td>...</td>\n",
              "      <td>0</td>\n",
              "      <td>0</td>\n",
              "      <td>0</td>\n",
              "      <td>0</td>\n",
              "      <td>0</td>\n",
              "      <td>0</td>\n",
              "      <td>0</td>\n",
              "      <td>0</td>\n",
              "      <td>0</td>\n",
              "      <td>0</td>\n",
              "    </tr>\n",
              "  </tbody>\n",
              "</table>\n",
              "<p>2 rows × 39 columns</p>\n",
              "</div>\n",
              "      <button class=\"colab-df-convert\" onclick=\"convertToInteractive('df-7b5f9313-6268-47eb-9dba-46c6c5effb4a')\"\n",
              "              title=\"Convert this dataframe to an interactive table.\"\n",
              "              style=\"display:none;\">\n",
              "        \n",
              "  <svg xmlns=\"http://www.w3.org/2000/svg\" height=\"24px\"viewBox=\"0 0 24 24\"\n",
              "       width=\"24px\">\n",
              "    <path d=\"M0 0h24v24H0V0z\" fill=\"none\"/>\n",
              "    <path d=\"M18.56 5.44l.94 2.06.94-2.06 2.06-.94-2.06-.94-.94-2.06-.94 2.06-2.06.94zm-11 1L8.5 8.5l.94-2.06 2.06-.94-2.06-.94L8.5 2.5l-.94 2.06-2.06.94zm10 10l.94 2.06.94-2.06 2.06-.94-2.06-.94-.94-2.06-.94 2.06-2.06.94z\"/><path d=\"M17.41 7.96l-1.37-1.37c-.4-.4-.92-.59-1.43-.59-.52 0-1.04.2-1.43.59L10.3 9.45l-7.72 7.72c-.78.78-.78 2.05 0 2.83L4 21.41c.39.39.9.59 1.41.59.51 0 1.02-.2 1.41-.59l7.78-7.78 2.81-2.81c.8-.78.8-2.07 0-2.86zM5.41 20L4 18.59l7.72-7.72 1.47 1.35L5.41 20z\"/>\n",
              "  </svg>\n",
              "      </button>\n",
              "      \n",
              "  <style>\n",
              "    .colab-df-container {\n",
              "      display:flex;\n",
              "      flex-wrap:wrap;\n",
              "      gap: 12px;\n",
              "    }\n",
              "\n",
              "    .colab-df-convert {\n",
              "      background-color: #E8F0FE;\n",
              "      border: none;\n",
              "      border-radius: 50%;\n",
              "      cursor: pointer;\n",
              "      display: none;\n",
              "      fill: #1967D2;\n",
              "      height: 32px;\n",
              "      padding: 0 0 0 0;\n",
              "      width: 32px;\n",
              "    }\n",
              "\n",
              "    .colab-df-convert:hover {\n",
              "      background-color: #E2EBFA;\n",
              "      box-shadow: 0px 1px 2px rgba(60, 64, 67, 0.3), 0px 1px 3px 1px rgba(60, 64, 67, 0.15);\n",
              "      fill: #174EA6;\n",
              "    }\n",
              "\n",
              "    [theme=dark] .colab-df-convert {\n",
              "      background-color: #3B4455;\n",
              "      fill: #D2E3FC;\n",
              "    }\n",
              "\n",
              "    [theme=dark] .colab-df-convert:hover {\n",
              "      background-color: #434B5C;\n",
              "      box-shadow: 0px 1px 3px 1px rgba(0, 0, 0, 0.15);\n",
              "      filter: drop-shadow(0px 1px 2px rgba(0, 0, 0, 0.3));\n",
              "      fill: #FFFFFF;\n",
              "    }\n",
              "  </style>\n",
              "\n",
              "      <script>\n",
              "        const buttonEl =\n",
              "          document.querySelector('#df-7b5f9313-6268-47eb-9dba-46c6c5effb4a button.colab-df-convert');\n",
              "        buttonEl.style.display =\n",
              "          google.colab.kernel.accessAllowed ? 'block' : 'none';\n",
              "\n",
              "        async function convertToInteractive(key) {\n",
              "          const element = document.querySelector('#df-7b5f9313-6268-47eb-9dba-46c6c5effb4a');\n",
              "          const dataTable =\n",
              "            await google.colab.kernel.invokeFunction('convertToInteractive',\n",
              "                                                     [key], {});\n",
              "          if (!dataTable) return;\n",
              "\n",
              "          const docLinkHtml = 'Like what you see? Visit the ' +\n",
              "            '<a target=\"_blank\" href=https://colab.research.google.com/notebooks/data_table.ipynb>data table notebook</a>'\n",
              "            + ' to learn more about interactive tables.';\n",
              "          element.innerHTML = '';\n",
              "          dataTable['output_type'] = 'display_data';\n",
              "          await google.colab.output.renderOutput(dataTable, element);\n",
              "          const docLink = document.createElement('div');\n",
              "          docLink.innerHTML = docLinkHtml;\n",
              "          element.appendChild(docLink);\n",
              "        }\n",
              "      </script>\n",
              "    </div>\n",
              "  </div>\n",
              "  "
            ]
          },
          "metadata": {},
          "execution_count": 34
        }
      ],
      "source": [
        "newdata_.head(2)"
      ]
    },
    {
      "cell_type": "code",
      "execution_count": null,
      "metadata": {
        "id": "YCEPXWt4F3E4"
      },
      "outputs": [],
      "source": [
        "data1_.drop('product', axis=1, inplace=True)"
      ]
    },
    {
      "cell_type": "markdown",
      "metadata": {
        "id": "JPpy_Zm0F3E5"
      },
      "source": [
        "join the dummy variables table *newdata_* to data1_"
      ]
    },
    {
      "cell_type": "code",
      "execution_count": null,
      "metadata": {
        "id": "4DK5H0BFF3E5"
      },
      "outputs": [],
      "source": [
        "data1_ = data1_.join(newdata_)"
      ]
    },
    {
      "cell_type": "code",
      "execution_count": null,
      "metadata": {
        "id": "6sW8_855F3E5"
      },
      "outputs": [],
      "source": [
        "products_ = df['product'].unique()"
      ]
    },
    {
      "cell_type": "code",
      "source": [
        "products_"
      ],
      "metadata": {
        "colab": {
          "base_uri": "https://localhost:8080/"
        },
        "id": "5TcdqvyqZDNh",
        "outputId": "28b8f4f1-e3a4-46cf-9362-4592452b7a16"
      },
      "execution_count": null,
      "outputs": [
        {
          "output_type": "execute_result",
          "data": {
            "text/plain": [
              "array(['BISCUIT', 'BEVERAGE', 'INCENSE', 'MILK POWDER', 'CLEANSERS',\n",
              "       'YOGHURT', 'CEREAL', 'DRIED FRUITS', 'INSTANT FOOD',\n",
              "       'CONFECTIONERY', 'SNACKS', 'BABY PRODUCTS', 'SUGAR', 'VEGETABLES',\n",
              "       'EGGS', 'SPREADS', 'PASTA NOODLES', 'DRY RATIONS', 'PERSONAL CARE',\n",
              "       'SAUCE', 'TREACLE', 'DESSERT', 'SEASONING', 'FRUITS', 'HOUSEHOLD',\n",
              "       'FLOUR', 'FISH', 'COOKING OIL', 'STATIONERY', 'MEDICINE', 'BAKERY',\n",
              "       'MEAT', 'BREAD', 'DRINKING MILK', 'FROZEN', 'MEAL ACCOMPANIMENTS',\n",
              "       'GARNISH', 'ESSENCE', 'PET CARE'], dtype=object)"
            ]
          },
          "metadata": {},
          "execution_count": 45
        }
      ]
    },
    {
      "cell_type": "markdown",
      "metadata": {
        "id": "hzBqQxmWF3E5"
      },
      "source": [
        "group the products so that products of each bill will be displayed.  "
      ]
    },
    {
      "cell_type": "markdown",
      "metadata": {
        "id": "haRmYSfoF3E6"
      },
      "source": [
        "groupby dataframe as *newitemsdf*"
      ]
    },
    {
      "cell_type": "code",
      "execution_count": null,
      "metadata": {
        "id": "ZlBmWkNsF3E6"
      },
      "outputs": [],
      "source": [
        "newitemsdf_ = data1_.groupby('invoice')[products_[:]].sum()"
      ]
    },
    {
      "cell_type": "code",
      "execution_count": null,
      "metadata": {
        "colab": {
          "base_uri": "https://localhost:8080/",
          "height": 348
        },
        "id": "JYc3km7PF3E6",
        "outputId": "81725067-902c-4387-8a3f-14af55d87f65"
      },
      "outputs": [
        {
          "output_type": "execute_result",
          "data": {
            "text/plain": [
              "         BISCUIT  BEVERAGE  INCENSE  MILK POWDER  CLEANSERS  YOGHURT  CEREAL  \\\n",
              "invoice                                                                        \n",
              "1000001        2         1        0            0          0        0       0   \n",
              "1000002        3         0        0            0          0        0       0   \n",
              "1000003        0         3        2            2          2        0       0   \n",
              "1000004        0         0        0            2          2        5       1   \n",
              "1000005        0         0        0            0          0        0       1   \n",
              "\n",
              "         DRIED FRUITS  INSTANT FOOD  CONFECTIONERY  ...  MEDICINE  BAKERY  \\\n",
              "invoice                                             ...                     \n",
              "1000001             0             0              0  ...         0       0   \n",
              "1000002             0             0              0  ...         0       0   \n",
              "1000003             0             0              0  ...         0       0   \n",
              "1000004             0             0              0  ...         0       0   \n",
              "1000005             1             2              3  ...         0       0   \n",
              "\n",
              "         MEAT  BREAD  DRINKING MILK  FROZEN  MEAL ACCOMPANIMENTS  GARNISH  \\\n",
              "invoice                                                                     \n",
              "1000001     0      0              0       0                    0        0   \n",
              "1000002     0      0              0       0                    0        0   \n",
              "1000003     0      0              0       0                    0        0   \n",
              "1000004     0      0              0       0                    0        0   \n",
              "1000005     0      0              0       0                    0        0   \n",
              "\n",
              "         ESSENCE  PET CARE  \n",
              "invoice                     \n",
              "1000001        0         0  \n",
              "1000002        0         0  \n",
              "1000003        0         0  \n",
              "1000004        0         0  \n",
              "1000005        0         0  \n",
              "\n",
              "[5 rows x 39 columns]"
            ],
            "text/html": [
              "\n",
              "  <div id=\"df-66bff9e0-17a0-4be7-a539-bcc16d1d144c\">\n",
              "    <div class=\"colab-df-container\">\n",
              "      <div>\n",
              "<style scoped>\n",
              "    .dataframe tbody tr th:only-of-type {\n",
              "        vertical-align: middle;\n",
              "    }\n",
              "\n",
              "    .dataframe tbody tr th {\n",
              "        vertical-align: top;\n",
              "    }\n",
              "\n",
              "    .dataframe thead th {\n",
              "        text-align: right;\n",
              "    }\n",
              "</style>\n",
              "<table border=\"1\" class=\"dataframe\">\n",
              "  <thead>\n",
              "    <tr style=\"text-align: right;\">\n",
              "      <th></th>\n",
              "      <th>BISCUIT</th>\n",
              "      <th>BEVERAGE</th>\n",
              "      <th>INCENSE</th>\n",
              "      <th>MILK POWDER</th>\n",
              "      <th>CLEANSERS</th>\n",
              "      <th>YOGHURT</th>\n",
              "      <th>CEREAL</th>\n",
              "      <th>DRIED FRUITS</th>\n",
              "      <th>INSTANT FOOD</th>\n",
              "      <th>CONFECTIONERY</th>\n",
              "      <th>...</th>\n",
              "      <th>MEDICINE</th>\n",
              "      <th>BAKERY</th>\n",
              "      <th>MEAT</th>\n",
              "      <th>BREAD</th>\n",
              "      <th>DRINKING MILK</th>\n",
              "      <th>FROZEN</th>\n",
              "      <th>MEAL ACCOMPANIMENTS</th>\n",
              "      <th>GARNISH</th>\n",
              "      <th>ESSENCE</th>\n",
              "      <th>PET CARE</th>\n",
              "    </tr>\n",
              "    <tr>\n",
              "      <th>invoice</th>\n",
              "      <th></th>\n",
              "      <th></th>\n",
              "      <th></th>\n",
              "      <th></th>\n",
              "      <th></th>\n",
              "      <th></th>\n",
              "      <th></th>\n",
              "      <th></th>\n",
              "      <th></th>\n",
              "      <th></th>\n",
              "      <th></th>\n",
              "      <th></th>\n",
              "      <th></th>\n",
              "      <th></th>\n",
              "      <th></th>\n",
              "      <th></th>\n",
              "      <th></th>\n",
              "      <th></th>\n",
              "      <th></th>\n",
              "      <th></th>\n",
              "      <th></th>\n",
              "    </tr>\n",
              "  </thead>\n",
              "  <tbody>\n",
              "    <tr>\n",
              "      <th>1000001</th>\n",
              "      <td>2</td>\n",
              "      <td>1</td>\n",
              "      <td>0</td>\n",
              "      <td>0</td>\n",
              "      <td>0</td>\n",
              "      <td>0</td>\n",
              "      <td>0</td>\n",
              "      <td>0</td>\n",
              "      <td>0</td>\n",
              "      <td>0</td>\n",
              "      <td>...</td>\n",
              "      <td>0</td>\n",
              "      <td>0</td>\n",
              "      <td>0</td>\n",
              "      <td>0</td>\n",
              "      <td>0</td>\n",
              "      <td>0</td>\n",
              "      <td>0</td>\n",
              "      <td>0</td>\n",
              "      <td>0</td>\n",
              "      <td>0</td>\n",
              "    </tr>\n",
              "    <tr>\n",
              "      <th>1000002</th>\n",
              "      <td>3</td>\n",
              "      <td>0</td>\n",
              "      <td>0</td>\n",
              "      <td>0</td>\n",
              "      <td>0</td>\n",
              "      <td>0</td>\n",
              "      <td>0</td>\n",
              "      <td>0</td>\n",
              "      <td>0</td>\n",
              "      <td>0</td>\n",
              "      <td>...</td>\n",
              "      <td>0</td>\n",
              "      <td>0</td>\n",
              "      <td>0</td>\n",
              "      <td>0</td>\n",
              "      <td>0</td>\n",
              "      <td>0</td>\n",
              "      <td>0</td>\n",
              "      <td>0</td>\n",
              "      <td>0</td>\n",
              "      <td>0</td>\n",
              "    </tr>\n",
              "    <tr>\n",
              "      <th>1000003</th>\n",
              "      <td>0</td>\n",
              "      <td>3</td>\n",
              "      <td>2</td>\n",
              "      <td>2</td>\n",
              "      <td>2</td>\n",
              "      <td>0</td>\n",
              "      <td>0</td>\n",
              "      <td>0</td>\n",
              "      <td>0</td>\n",
              "      <td>0</td>\n",
              "      <td>...</td>\n",
              "      <td>0</td>\n",
              "      <td>0</td>\n",
              "      <td>0</td>\n",
              "      <td>0</td>\n",
              "      <td>0</td>\n",
              "      <td>0</td>\n",
              "      <td>0</td>\n",
              "      <td>0</td>\n",
              "      <td>0</td>\n",
              "      <td>0</td>\n",
              "    </tr>\n",
              "    <tr>\n",
              "      <th>1000004</th>\n",
              "      <td>0</td>\n",
              "      <td>0</td>\n",
              "      <td>0</td>\n",
              "      <td>2</td>\n",
              "      <td>2</td>\n",
              "      <td>5</td>\n",
              "      <td>1</td>\n",
              "      <td>0</td>\n",
              "      <td>0</td>\n",
              "      <td>0</td>\n",
              "      <td>...</td>\n",
              "      <td>0</td>\n",
              "      <td>0</td>\n",
              "      <td>0</td>\n",
              "      <td>0</td>\n",
              "      <td>0</td>\n",
              "      <td>0</td>\n",
              "      <td>0</td>\n",
              "      <td>0</td>\n",
              "      <td>0</td>\n",
              "      <td>0</td>\n",
              "    </tr>\n",
              "    <tr>\n",
              "      <th>1000005</th>\n",
              "      <td>0</td>\n",
              "      <td>0</td>\n",
              "      <td>0</td>\n",
              "      <td>0</td>\n",
              "      <td>0</td>\n",
              "      <td>0</td>\n",
              "      <td>1</td>\n",
              "      <td>1</td>\n",
              "      <td>2</td>\n",
              "      <td>3</td>\n",
              "      <td>...</td>\n",
              "      <td>0</td>\n",
              "      <td>0</td>\n",
              "      <td>0</td>\n",
              "      <td>0</td>\n",
              "      <td>0</td>\n",
              "      <td>0</td>\n",
              "      <td>0</td>\n",
              "      <td>0</td>\n",
              "      <td>0</td>\n",
              "      <td>0</td>\n",
              "    </tr>\n",
              "  </tbody>\n",
              "</table>\n",
              "<p>5 rows × 39 columns</p>\n",
              "</div>\n",
              "      <button class=\"colab-df-convert\" onclick=\"convertToInteractive('df-66bff9e0-17a0-4be7-a539-bcc16d1d144c')\"\n",
              "              title=\"Convert this dataframe to an interactive table.\"\n",
              "              style=\"display:none;\">\n",
              "        \n",
              "  <svg xmlns=\"http://www.w3.org/2000/svg\" height=\"24px\"viewBox=\"0 0 24 24\"\n",
              "       width=\"24px\">\n",
              "    <path d=\"M0 0h24v24H0V0z\" fill=\"none\"/>\n",
              "    <path d=\"M18.56 5.44l.94 2.06.94-2.06 2.06-.94-2.06-.94-.94-2.06-.94 2.06-2.06.94zm-11 1L8.5 8.5l.94-2.06 2.06-.94-2.06-.94L8.5 2.5l-.94 2.06-2.06.94zm10 10l.94 2.06.94-2.06 2.06-.94-2.06-.94-.94-2.06-.94 2.06-2.06.94z\"/><path d=\"M17.41 7.96l-1.37-1.37c-.4-.4-.92-.59-1.43-.59-.52 0-1.04.2-1.43.59L10.3 9.45l-7.72 7.72c-.78.78-.78 2.05 0 2.83L4 21.41c.39.39.9.59 1.41.59.51 0 1.02-.2 1.41-.59l7.78-7.78 2.81-2.81c.8-.78.8-2.07 0-2.86zM5.41 20L4 18.59l7.72-7.72 1.47 1.35L5.41 20z\"/>\n",
              "  </svg>\n",
              "      </button>\n",
              "      \n",
              "  <style>\n",
              "    .colab-df-container {\n",
              "      display:flex;\n",
              "      flex-wrap:wrap;\n",
              "      gap: 12px;\n",
              "    }\n",
              "\n",
              "    .colab-df-convert {\n",
              "      background-color: #E8F0FE;\n",
              "      border: none;\n",
              "      border-radius: 50%;\n",
              "      cursor: pointer;\n",
              "      display: none;\n",
              "      fill: #1967D2;\n",
              "      height: 32px;\n",
              "      padding: 0 0 0 0;\n",
              "      width: 32px;\n",
              "    }\n",
              "\n",
              "    .colab-df-convert:hover {\n",
              "      background-color: #E2EBFA;\n",
              "      box-shadow: 0px 1px 2px rgba(60, 64, 67, 0.3), 0px 1px 3px 1px rgba(60, 64, 67, 0.15);\n",
              "      fill: #174EA6;\n",
              "    }\n",
              "\n",
              "    [theme=dark] .colab-df-convert {\n",
              "      background-color: #3B4455;\n",
              "      fill: #D2E3FC;\n",
              "    }\n",
              "\n",
              "    [theme=dark] .colab-df-convert:hover {\n",
              "      background-color: #434B5C;\n",
              "      box-shadow: 0px 1px 3px 1px rgba(0, 0, 0, 0.15);\n",
              "      filter: drop-shadow(0px 1px 2px rgba(0, 0, 0, 0.3));\n",
              "      fill: #FFFFFF;\n",
              "    }\n",
              "  </style>\n",
              "\n",
              "      <script>\n",
              "        const buttonEl =\n",
              "          document.querySelector('#df-66bff9e0-17a0-4be7-a539-bcc16d1d144c button.colab-df-convert');\n",
              "        buttonEl.style.display =\n",
              "          google.colab.kernel.accessAllowed ? 'block' : 'none';\n",
              "\n",
              "        async function convertToInteractive(key) {\n",
              "          const element = document.querySelector('#df-66bff9e0-17a0-4be7-a539-bcc16d1d144c');\n",
              "          const dataTable =\n",
              "            await google.colab.kernel.invokeFunction('convertToInteractive',\n",
              "                                                     [key], {});\n",
              "          if (!dataTable) return;\n",
              "\n",
              "          const docLinkHtml = 'Like what you see? Visit the ' +\n",
              "            '<a target=\"_blank\" href=https://colab.research.google.com/notebooks/data_table.ipynb>data table notebook</a>'\n",
              "            + ' to learn more about interactive tables.';\n",
              "          element.innerHTML = '';\n",
              "          dataTable['output_type'] = 'display_data';\n",
              "          await google.colab.output.renderOutput(dataTable, element);\n",
              "          const docLink = document.createElement('div');\n",
              "          docLink.innerHTML = docLinkHtml;\n",
              "          element.appendChild(docLink);\n",
              "        }\n",
              "      </script>\n",
              "    </div>\n",
              "  </div>\n",
              "  "
            ]
          },
          "metadata": {},
          "execution_count": 51
        }
      ],
      "source": [
        "newitemsdf_.head()"
      ]
    },
    {
      "cell_type": "markdown",
      "metadata": {
        "id": "8XpE7iLWF3E6"
      },
      "source": [
        "only the transaction items are visible "
      ]
    },
    {
      "cell_type": "code",
      "execution_count": null,
      "metadata": {
        "id": "yoWEWCGUF3E6"
      },
      "outputs": [],
      "source": [
        "newitemsdf_ = newitemsdf_.reset_index()[products_]"
      ]
    },
    {
      "cell_type": "code",
      "execution_count": null,
      "metadata": {
        "colab": {
          "base_uri": "https://localhost:8080/",
          "height": 317
        },
        "id": "rpZxw5zrF3E6",
        "outputId": "4582b812-9f62-49cf-92ff-056a8119a8dd"
      },
      "outputs": [
        {
          "output_type": "execute_result",
          "data": {
            "text/plain": [
              "   BISCUIT  BEVERAGE  INCENSE  MILK POWDER  CLEANSERS  YOGHURT  CEREAL  \\\n",
              "0        2         1        0            0          0        0       0   \n",
              "1        3         0        0            0          0        0       0   \n",
              "2        0         3        2            2          2        0       0   \n",
              "3        0         0        0            2          2        5       1   \n",
              "4        0         0        0            0          0        0       1   \n",
              "\n",
              "   DRIED FRUITS  INSTANT FOOD  CONFECTIONERY  ...  MEDICINE  BAKERY  MEAT  \\\n",
              "0             0             0              0  ...         0       0     0   \n",
              "1             0             0              0  ...         0       0     0   \n",
              "2             0             0              0  ...         0       0     0   \n",
              "3             0             0              0  ...         0       0     0   \n",
              "4             1             2              3  ...         0       0     0   \n",
              "\n",
              "   BREAD  DRINKING MILK  FROZEN  MEAL ACCOMPANIMENTS  GARNISH  ESSENCE  \\\n",
              "0      0              0       0                    0        0        0   \n",
              "1      0              0       0                    0        0        0   \n",
              "2      0              0       0                    0        0        0   \n",
              "3      0              0       0                    0        0        0   \n",
              "4      0              0       0                    0        0        0   \n",
              "\n",
              "   PET CARE  \n",
              "0         0  \n",
              "1         0  \n",
              "2         0  \n",
              "3         0  \n",
              "4         0  \n",
              "\n",
              "[5 rows x 39 columns]"
            ],
            "text/html": [
              "\n",
              "  <div id=\"df-e91a9292-3226-4a68-8a4e-9bd7daf5442a\">\n",
              "    <div class=\"colab-df-container\">\n",
              "      <div>\n",
              "<style scoped>\n",
              "    .dataframe tbody tr th:only-of-type {\n",
              "        vertical-align: middle;\n",
              "    }\n",
              "\n",
              "    .dataframe tbody tr th {\n",
              "        vertical-align: top;\n",
              "    }\n",
              "\n",
              "    .dataframe thead th {\n",
              "        text-align: right;\n",
              "    }\n",
              "</style>\n",
              "<table border=\"1\" class=\"dataframe\">\n",
              "  <thead>\n",
              "    <tr style=\"text-align: right;\">\n",
              "      <th></th>\n",
              "      <th>BISCUIT</th>\n",
              "      <th>BEVERAGE</th>\n",
              "      <th>INCENSE</th>\n",
              "      <th>MILK POWDER</th>\n",
              "      <th>CLEANSERS</th>\n",
              "      <th>YOGHURT</th>\n",
              "      <th>CEREAL</th>\n",
              "      <th>DRIED FRUITS</th>\n",
              "      <th>INSTANT FOOD</th>\n",
              "      <th>CONFECTIONERY</th>\n",
              "      <th>...</th>\n",
              "      <th>MEDICINE</th>\n",
              "      <th>BAKERY</th>\n",
              "      <th>MEAT</th>\n",
              "      <th>BREAD</th>\n",
              "      <th>DRINKING MILK</th>\n",
              "      <th>FROZEN</th>\n",
              "      <th>MEAL ACCOMPANIMENTS</th>\n",
              "      <th>GARNISH</th>\n",
              "      <th>ESSENCE</th>\n",
              "      <th>PET CARE</th>\n",
              "    </tr>\n",
              "  </thead>\n",
              "  <tbody>\n",
              "    <tr>\n",
              "      <th>0</th>\n",
              "      <td>2</td>\n",
              "      <td>1</td>\n",
              "      <td>0</td>\n",
              "      <td>0</td>\n",
              "      <td>0</td>\n",
              "      <td>0</td>\n",
              "      <td>0</td>\n",
              "      <td>0</td>\n",
              "      <td>0</td>\n",
              "      <td>0</td>\n",
              "      <td>...</td>\n",
              "      <td>0</td>\n",
              "      <td>0</td>\n",
              "      <td>0</td>\n",
              "      <td>0</td>\n",
              "      <td>0</td>\n",
              "      <td>0</td>\n",
              "      <td>0</td>\n",
              "      <td>0</td>\n",
              "      <td>0</td>\n",
              "      <td>0</td>\n",
              "    </tr>\n",
              "    <tr>\n",
              "      <th>1</th>\n",
              "      <td>3</td>\n",
              "      <td>0</td>\n",
              "      <td>0</td>\n",
              "      <td>0</td>\n",
              "      <td>0</td>\n",
              "      <td>0</td>\n",
              "      <td>0</td>\n",
              "      <td>0</td>\n",
              "      <td>0</td>\n",
              "      <td>0</td>\n",
              "      <td>...</td>\n",
              "      <td>0</td>\n",
              "      <td>0</td>\n",
              "      <td>0</td>\n",
              "      <td>0</td>\n",
              "      <td>0</td>\n",
              "      <td>0</td>\n",
              "      <td>0</td>\n",
              "      <td>0</td>\n",
              "      <td>0</td>\n",
              "      <td>0</td>\n",
              "    </tr>\n",
              "    <tr>\n",
              "      <th>2</th>\n",
              "      <td>0</td>\n",
              "      <td>3</td>\n",
              "      <td>2</td>\n",
              "      <td>2</td>\n",
              "      <td>2</td>\n",
              "      <td>0</td>\n",
              "      <td>0</td>\n",
              "      <td>0</td>\n",
              "      <td>0</td>\n",
              "      <td>0</td>\n",
              "      <td>...</td>\n",
              "      <td>0</td>\n",
              "      <td>0</td>\n",
              "      <td>0</td>\n",
              "      <td>0</td>\n",
              "      <td>0</td>\n",
              "      <td>0</td>\n",
              "      <td>0</td>\n",
              "      <td>0</td>\n",
              "      <td>0</td>\n",
              "      <td>0</td>\n",
              "    </tr>\n",
              "    <tr>\n",
              "      <th>3</th>\n",
              "      <td>0</td>\n",
              "      <td>0</td>\n",
              "      <td>0</td>\n",
              "      <td>2</td>\n",
              "      <td>2</td>\n",
              "      <td>5</td>\n",
              "      <td>1</td>\n",
              "      <td>0</td>\n",
              "      <td>0</td>\n",
              "      <td>0</td>\n",
              "      <td>...</td>\n",
              "      <td>0</td>\n",
              "      <td>0</td>\n",
              "      <td>0</td>\n",
              "      <td>0</td>\n",
              "      <td>0</td>\n",
              "      <td>0</td>\n",
              "      <td>0</td>\n",
              "      <td>0</td>\n",
              "      <td>0</td>\n",
              "      <td>0</td>\n",
              "    </tr>\n",
              "    <tr>\n",
              "      <th>4</th>\n",
              "      <td>0</td>\n",
              "      <td>0</td>\n",
              "      <td>0</td>\n",
              "      <td>0</td>\n",
              "      <td>0</td>\n",
              "      <td>0</td>\n",
              "      <td>1</td>\n",
              "      <td>1</td>\n",
              "      <td>2</td>\n",
              "      <td>3</td>\n",
              "      <td>...</td>\n",
              "      <td>0</td>\n",
              "      <td>0</td>\n",
              "      <td>0</td>\n",
              "      <td>0</td>\n",
              "      <td>0</td>\n",
              "      <td>0</td>\n",
              "      <td>0</td>\n",
              "      <td>0</td>\n",
              "      <td>0</td>\n",
              "      <td>0</td>\n",
              "    </tr>\n",
              "  </tbody>\n",
              "</table>\n",
              "<p>5 rows × 39 columns</p>\n",
              "</div>\n",
              "      <button class=\"colab-df-convert\" onclick=\"convertToInteractive('df-e91a9292-3226-4a68-8a4e-9bd7daf5442a')\"\n",
              "              title=\"Convert this dataframe to an interactive table.\"\n",
              "              style=\"display:none;\">\n",
              "        \n",
              "  <svg xmlns=\"http://www.w3.org/2000/svg\" height=\"24px\"viewBox=\"0 0 24 24\"\n",
              "       width=\"24px\">\n",
              "    <path d=\"M0 0h24v24H0V0z\" fill=\"none\"/>\n",
              "    <path d=\"M18.56 5.44l.94 2.06.94-2.06 2.06-.94-2.06-.94-.94-2.06-.94 2.06-2.06.94zm-11 1L8.5 8.5l.94-2.06 2.06-.94-2.06-.94L8.5 2.5l-.94 2.06-2.06.94zm10 10l.94 2.06.94-2.06 2.06-.94-2.06-.94-.94-2.06-.94 2.06-2.06.94z\"/><path d=\"M17.41 7.96l-1.37-1.37c-.4-.4-.92-.59-1.43-.59-.52 0-1.04.2-1.43.59L10.3 9.45l-7.72 7.72c-.78.78-.78 2.05 0 2.83L4 21.41c.39.39.9.59 1.41.59.51 0 1.02-.2 1.41-.59l7.78-7.78 2.81-2.81c.8-.78.8-2.07 0-2.86zM5.41 20L4 18.59l7.72-7.72 1.47 1.35L5.41 20z\"/>\n",
              "  </svg>\n",
              "      </button>\n",
              "      \n",
              "  <style>\n",
              "    .colab-df-container {\n",
              "      display:flex;\n",
              "      flex-wrap:wrap;\n",
              "      gap: 12px;\n",
              "    }\n",
              "\n",
              "    .colab-df-convert {\n",
              "      background-color: #E8F0FE;\n",
              "      border: none;\n",
              "      border-radius: 50%;\n",
              "      cursor: pointer;\n",
              "      display: none;\n",
              "      fill: #1967D2;\n",
              "      height: 32px;\n",
              "      padding: 0 0 0 0;\n",
              "      width: 32px;\n",
              "    }\n",
              "\n",
              "    .colab-df-convert:hover {\n",
              "      background-color: #E2EBFA;\n",
              "      box-shadow: 0px 1px 2px rgba(60, 64, 67, 0.3), 0px 1px 3px 1px rgba(60, 64, 67, 0.15);\n",
              "      fill: #174EA6;\n",
              "    }\n",
              "\n",
              "    [theme=dark] .colab-df-convert {\n",
              "      background-color: #3B4455;\n",
              "      fill: #D2E3FC;\n",
              "    }\n",
              "\n",
              "    [theme=dark] .colab-df-convert:hover {\n",
              "      background-color: #434B5C;\n",
              "      box-shadow: 0px 1px 3px 1px rgba(0, 0, 0, 0.15);\n",
              "      filter: drop-shadow(0px 1px 2px rgba(0, 0, 0, 0.3));\n",
              "      fill: #FFFFFF;\n",
              "    }\n",
              "  </style>\n",
              "\n",
              "      <script>\n",
              "        const buttonEl =\n",
              "          document.querySelector('#df-e91a9292-3226-4a68-8a4e-9bd7daf5442a button.colab-df-convert');\n",
              "        buttonEl.style.display =\n",
              "          google.colab.kernel.accessAllowed ? 'block' : 'none';\n",
              "\n",
              "        async function convertToInteractive(key) {\n",
              "          const element = document.querySelector('#df-e91a9292-3226-4a68-8a4e-9bd7daf5442a');\n",
              "          const dataTable =\n",
              "            await google.colab.kernel.invokeFunction('convertToInteractive',\n",
              "                                                     [key], {});\n",
              "          if (!dataTable) return;\n",
              "\n",
              "          const docLinkHtml = 'Like what you see? Visit the ' +\n",
              "            '<a target=\"_blank\" href=https://colab.research.google.com/notebooks/data_table.ipynb>data table notebook</a>'\n",
              "            + ' to learn more about interactive tables.';\n",
              "          element.innerHTML = '';\n",
              "          dataTable['output_type'] = 'display_data';\n",
              "          await google.colab.output.renderOutput(dataTable, element);\n",
              "          const docLink = document.createElement('div');\n",
              "          docLink.innerHTML = docLinkHtml;\n",
              "          element.appendChild(docLink);\n",
              "        }\n",
              "      </script>\n",
              "    </div>\n",
              "  </div>\n",
              "  "
            ]
          },
          "metadata": {},
          "execution_count": 49
        }
      ],
      "source": [
        "newitemsdf_.head()"
      ]
    },
    {
      "cell_type": "code",
      "execution_count": null,
      "metadata": {
        "id": "7e36c01kF3E7"
      },
      "outputs": [],
      "source": [
        "def func2(data):\n",
        "  for i in products_:\n",
        "    if data[i] > 0:\n",
        "      # if the cell is greater than 0, replace it by 1 \n",
        "      data[i] = 1\n",
        "  return data"
      ]
    },
    {
      "cell_type": "code",
      "execution_count": null,
      "metadata": {
        "id": "TO-LvyuQF3E7"
      },
      "outputs": [],
      "source": [
        "newitemsdf2_ = newitemsdf_.apply(func2, axis=1)"
      ]
    },
    {
      "cell_type": "code",
      "execution_count": null,
      "metadata": {
        "colab": {
          "base_uri": "https://localhost:8080/",
          "height": 1000
        },
        "id": "gAJOX187F3E7",
        "outputId": "852cbfef-1928-4465-c709-584d1edb6d06"
      },
      "outputs": [
        {
          "data": {
            "text/html": [
              "<div>\n",
              "<style scoped>\n",
              "    .dataframe tbody tr th:only-of-type {\n",
              "        vertical-align: middle;\n",
              "    }\n",
              "\n",
              "    .dataframe tbody tr th {\n",
              "        vertical-align: top;\n",
              "    }\n",
              "\n",
              "    .dataframe thead th {\n",
              "        text-align: right;\n",
              "    }\n",
              "</style>\n",
              "<table border=\"1\" class=\"dataframe\">\n",
              "  <thead>\n",
              "    <tr style=\"text-align: right;\">\n",
              "      <th></th>\n",
              "      <th>BISCUIT</th>\n",
              "      <th>BEVERAGE</th>\n",
              "      <th>INCENSE</th>\n",
              "      <th>MILK POWDER</th>\n",
              "      <th>CLEANSERS</th>\n",
              "      <th>YOGHURT</th>\n",
              "      <th>CEREAL</th>\n",
              "      <th>DRIED FRUITS</th>\n",
              "      <th>INSTANT FOOD</th>\n",
              "      <th>CONFECTIONERY</th>\n",
              "      <th>...</th>\n",
              "      <th>MEDICINE</th>\n",
              "      <th>BAKERY</th>\n",
              "      <th>MEAT</th>\n",
              "      <th>BREAD</th>\n",
              "      <th>DRINKING MILK</th>\n",
              "      <th>FROZEN</th>\n",
              "      <th>MEAL ACCOMPANIMENTS</th>\n",
              "      <th>GARNISH</th>\n",
              "      <th>ESSENCE</th>\n",
              "      <th>PET CARE</th>\n",
              "    </tr>\n",
              "  </thead>\n",
              "  <tbody>\n",
              "    <tr>\n",
              "      <th>0</th>\n",
              "      <td>1</td>\n",
              "      <td>1</td>\n",
              "      <td>0</td>\n",
              "      <td>0</td>\n",
              "      <td>0</td>\n",
              "      <td>0</td>\n",
              "      <td>0</td>\n",
              "      <td>0</td>\n",
              "      <td>0</td>\n",
              "      <td>0</td>\n",
              "      <td>...</td>\n",
              "      <td>0</td>\n",
              "      <td>0</td>\n",
              "      <td>0</td>\n",
              "      <td>0</td>\n",
              "      <td>0</td>\n",
              "      <td>0</td>\n",
              "      <td>0</td>\n",
              "      <td>0</td>\n",
              "      <td>0</td>\n",
              "      <td>0</td>\n",
              "    </tr>\n",
              "    <tr>\n",
              "      <th>1</th>\n",
              "      <td>1</td>\n",
              "      <td>0</td>\n",
              "      <td>0</td>\n",
              "      <td>0</td>\n",
              "      <td>0</td>\n",
              "      <td>0</td>\n",
              "      <td>0</td>\n",
              "      <td>0</td>\n",
              "      <td>0</td>\n",
              "      <td>0</td>\n",
              "      <td>...</td>\n",
              "      <td>0</td>\n",
              "      <td>0</td>\n",
              "      <td>0</td>\n",
              "      <td>0</td>\n",
              "      <td>0</td>\n",
              "      <td>0</td>\n",
              "      <td>0</td>\n",
              "      <td>0</td>\n",
              "      <td>0</td>\n",
              "      <td>0</td>\n",
              "    </tr>\n",
              "    <tr>\n",
              "      <th>2</th>\n",
              "      <td>0</td>\n",
              "      <td>1</td>\n",
              "      <td>1</td>\n",
              "      <td>1</td>\n",
              "      <td>1</td>\n",
              "      <td>0</td>\n",
              "      <td>0</td>\n",
              "      <td>0</td>\n",
              "      <td>0</td>\n",
              "      <td>0</td>\n",
              "      <td>...</td>\n",
              "      <td>0</td>\n",
              "      <td>0</td>\n",
              "      <td>0</td>\n",
              "      <td>0</td>\n",
              "      <td>0</td>\n",
              "      <td>0</td>\n",
              "      <td>0</td>\n",
              "      <td>0</td>\n",
              "      <td>0</td>\n",
              "      <td>0</td>\n",
              "    </tr>\n",
              "    <tr>\n",
              "      <th>3</th>\n",
              "      <td>0</td>\n",
              "      <td>0</td>\n",
              "      <td>0</td>\n",
              "      <td>1</td>\n",
              "      <td>1</td>\n",
              "      <td>1</td>\n",
              "      <td>1</td>\n",
              "      <td>0</td>\n",
              "      <td>0</td>\n",
              "      <td>0</td>\n",
              "      <td>...</td>\n",
              "      <td>0</td>\n",
              "      <td>0</td>\n",
              "      <td>0</td>\n",
              "      <td>0</td>\n",
              "      <td>0</td>\n",
              "      <td>0</td>\n",
              "      <td>0</td>\n",
              "      <td>0</td>\n",
              "      <td>0</td>\n",
              "      <td>0</td>\n",
              "    </tr>\n",
              "    <tr>\n",
              "      <th>4</th>\n",
              "      <td>0</td>\n",
              "      <td>0</td>\n",
              "      <td>0</td>\n",
              "      <td>0</td>\n",
              "      <td>0</td>\n",
              "      <td>0</td>\n",
              "      <td>1</td>\n",
              "      <td>1</td>\n",
              "      <td>1</td>\n",
              "      <td>1</td>\n",
              "      <td>...</td>\n",
              "      <td>0</td>\n",
              "      <td>0</td>\n",
              "      <td>0</td>\n",
              "      <td>0</td>\n",
              "      <td>0</td>\n",
              "      <td>0</td>\n",
              "      <td>0</td>\n",
              "      <td>0</td>\n",
              "      <td>0</td>\n",
              "      <td>0</td>\n",
              "    </tr>\n",
              "  </tbody>\n",
              "</table>\n",
              "<p>5 rows × 39 columns</p>\n",
              "</div>"
            ],
            "text/plain": [
              "   BISCUIT  BEVERAGE  INCENSE  MILK POWDER  CLEANSERS  YOGHURT  CEREAL  \\\n",
              "0        1         1        0            0          0        0       0   \n",
              "1        1         0        0            0          0        0       0   \n",
              "2        0         1        1            1          1        0       0   \n",
              "3        0         0        0            1          1        1       1   \n",
              "4        0         0        0            0          0        0       1   \n",
              "\n",
              "   DRIED FRUITS  INSTANT FOOD  CONFECTIONERY  ...  MEDICINE  BAKERY  MEAT  \\\n",
              "0             0             0              0  ...         0       0     0   \n",
              "1             0             0              0  ...         0       0     0   \n",
              "2             0             0              0  ...         0       0     0   \n",
              "3             0             0              0  ...         0       0     0   \n",
              "4             1             1              1  ...         0       0     0   \n",
              "\n",
              "   BREAD  DRINKING MILK  FROZEN  MEAL ACCOMPANIMENTS  GARNISH  ESSENCE  \\\n",
              "0      0              0       0                    0        0        0   \n",
              "1      0              0       0                    0        0        0   \n",
              "2      0              0       0                    0        0        0   \n",
              "3      0              0       0                    0        0        0   \n",
              "4      0              0       0                    0        0        0   \n",
              "\n",
              "   PET CARE  \n",
              "0         0  \n",
              "1         0  \n",
              "2         0  \n",
              "3         0  \n",
              "4         0  \n",
              "\n",
              "[5 rows x 39 columns]"
            ]
          },
          "execution_count": 75,
          "metadata": {},
          "output_type": "execute_result"
        }
      ],
      "source": [
        "newitemsdf2_.head()"
      ]
    },
    {
      "cell_type": "markdown",
      "metadata": {
        "id": "F_nMUg7jGvGo"
      },
      "source": [
        "# 1 itemset min support - product"
      ]
    },
    {
      "cell_type": "code",
      "execution_count": null,
      "metadata": {
        "id": "xWVtdrIdGvGo",
        "outputId": "1fd576e5-e3c9-42d8-e695-caf34ec1dec2"
      },
      "outputs": [
        {
          "name": "stderr",
          "output_type": "stream",
          "text": [
            "C:\\Users\\HP\\anaconda3\\lib\\site-packages\\mlxtend\\frequent_patterns\\fpcommon.py:111: DeprecationWarning: DataFrames with non-bool types result in worse computationalperformance and their support might be discontinued in the future.Please use a DataFrame with bool type\n",
            "  warnings.warn(\n"
          ]
        },
        {
          "data": {
            "text/html": [
              "<div>\n",
              "<style scoped>\n",
              "    .dataframe tbody tr th:only-of-type {\n",
              "        vertical-align: middle;\n",
              "    }\n",
              "\n",
              "    .dataframe tbody tr th {\n",
              "        vertical-align: top;\n",
              "    }\n",
              "\n",
              "    .dataframe thead th {\n",
              "        text-align: right;\n",
              "    }\n",
              "</style>\n",
              "<table border=\"1\" class=\"dataframe\">\n",
              "  <thead>\n",
              "    <tr style=\"text-align: right;\">\n",
              "      <th></th>\n",
              "      <th>support</th>\n",
              "      <th>itemsets</th>\n",
              "    </tr>\n",
              "  </thead>\n",
              "  <tbody>\n",
              "    <tr>\n",
              "      <th>0</th>\n",
              "      <td>0.315473</td>\n",
              "      <td>(BEVERAGE)</td>\n",
              "    </tr>\n",
              "    <tr>\n",
              "      <th>1</th>\n",
              "      <td>0.184616</td>\n",
              "      <td>(BISCUIT)</td>\n",
              "    </tr>\n",
              "    <tr>\n",
              "      <th>7</th>\n",
              "      <td>0.181561</td>\n",
              "      <td>(CONFECTIONERY)</td>\n",
              "    </tr>\n",
              "    <tr>\n",
              "      <th>13</th>\n",
              "      <td>0.170401</td>\n",
              "      <td>(VEGETABLES)</td>\n",
              "    </tr>\n",
              "    <tr>\n",
              "      <th>18</th>\n",
              "      <td>0.149721</td>\n",
              "      <td>(PERSONAL CARE)</td>\n",
              "    </tr>\n",
              "    <tr>\n",
              "      <th>8</th>\n",
              "      <td>0.131299</td>\n",
              "      <td>(SNACKS)</td>\n",
              "    </tr>\n",
              "    <tr>\n",
              "      <th>33</th>\n",
              "      <td>0.115667</td>\n",
              "      <td>(DRINKING MILK)</td>\n",
              "    </tr>\n",
              "    <tr>\n",
              "      <th>2</th>\n",
              "      <td>0.106589</td>\n",
              "      <td>(CLEANSERS)</td>\n",
              "    </tr>\n",
              "    <tr>\n",
              "      <th>22</th>\n",
              "      <td>0.103135</td>\n",
              "      <td>(FRUITS)</td>\n",
              "    </tr>\n",
              "    <tr>\n",
              "      <th>23</th>\n",
              "      <td>0.094500</td>\n",
              "      <td>(SEASONING)</td>\n",
              "    </tr>\n",
              "    <tr>\n",
              "      <th>17</th>\n",
              "      <td>0.089275</td>\n",
              "      <td>(DRY RATIONS)</td>\n",
              "    </tr>\n",
              "    <tr>\n",
              "      <th>5</th>\n",
              "      <td>0.084138</td>\n",
              "      <td>(YOGHURT)</td>\n",
              "    </tr>\n",
              "    <tr>\n",
              "      <th>30</th>\n",
              "      <td>0.065849</td>\n",
              "      <td>(BAKERY)</td>\n",
              "    </tr>\n",
              "    <tr>\n",
              "      <th>15</th>\n",
              "      <td>0.064520</td>\n",
              "      <td>(SPREADS)</td>\n",
              "    </tr>\n",
              "    <tr>\n",
              "      <th>16</th>\n",
              "      <td>0.059339</td>\n",
              "      <td>(PASTA NOODLES)</td>\n",
              "    </tr>\n",
              "    <tr>\n",
              "      <th>9</th>\n",
              "      <td>0.057789</td>\n",
              "      <td>(INSTANT FOOD)</td>\n",
              "    </tr>\n",
              "    <tr>\n",
              "      <th>34</th>\n",
              "      <td>0.054468</td>\n",
              "      <td>(FROZEN)</td>\n",
              "    </tr>\n",
              "    <tr>\n",
              "      <th>31</th>\n",
              "      <td>0.053760</td>\n",
              "      <td>(MEAT)</td>\n",
              "    </tr>\n",
              "    <tr>\n",
              "      <th>3</th>\n",
              "      <td>0.053361</td>\n",
              "      <td>(MILK POWDER)</td>\n",
              "    </tr>\n",
              "    <tr>\n",
              "      <th>14</th>\n",
              "      <td>0.046276</td>\n",
              "      <td>(EGGS)</td>\n",
              "    </tr>\n",
              "    <tr>\n",
              "      <th>24</th>\n",
              "      <td>0.045789</td>\n",
              "      <td>(HOUSEHOLD)</td>\n",
              "    </tr>\n",
              "    <tr>\n",
              "      <th>11</th>\n",
              "      <td>0.043575</td>\n",
              "      <td>(SUGAR)</td>\n",
              "    </tr>\n",
              "    <tr>\n",
              "      <th>26</th>\n",
              "      <td>0.039368</td>\n",
              "      <td>(FISH)</td>\n",
              "    </tr>\n",
              "    <tr>\n",
              "      <th>12</th>\n",
              "      <td>0.037419</td>\n",
              "      <td>(BABY PRODUCTS)</td>\n",
              "    </tr>\n",
              "    <tr>\n",
              "      <th>21</th>\n",
              "      <td>0.037153</td>\n",
              "      <td>(DESSERT)</td>\n",
              "    </tr>\n",
              "    <tr>\n",
              "      <th>25</th>\n",
              "      <td>0.036312</td>\n",
              "      <td>(FLOUR)</td>\n",
              "    </tr>\n",
              "    <tr>\n",
              "      <th>32</th>\n",
              "      <td>0.034452</td>\n",
              "      <td>(BREAD)</td>\n",
              "    </tr>\n",
              "    <tr>\n",
              "      <th>28</th>\n",
              "      <td>0.030910</td>\n",
              "      <td>(MEDICINE)</td>\n",
              "    </tr>\n",
              "    <tr>\n",
              "      <th>35</th>\n",
              "      <td>0.030245</td>\n",
              "      <td>(GARNISH)</td>\n",
              "    </tr>\n",
              "    <tr>\n",
              "      <th>29</th>\n",
              "      <td>0.027943</td>\n",
              "      <td>(STATIONERY)</td>\n",
              "    </tr>\n",
              "    <tr>\n",
              "      <th>19</th>\n",
              "      <td>0.027765</td>\n",
              "      <td>(SAUCE)</td>\n",
              "    </tr>\n",
              "    <tr>\n",
              "      <th>4</th>\n",
              "      <td>0.024843</td>\n",
              "      <td>(INCENSE)</td>\n",
              "    </tr>\n",
              "    <tr>\n",
              "      <th>27</th>\n",
              "      <td>0.024223</td>\n",
              "      <td>(COOKING OIL)</td>\n",
              "    </tr>\n",
              "    <tr>\n",
              "      <th>6</th>\n",
              "      <td>0.020326</td>\n",
              "      <td>(CEREAL)</td>\n",
              "    </tr>\n",
              "    <tr>\n",
              "      <th>36</th>\n",
              "      <td>0.018599</td>\n",
              "      <td>(MEAL ACCOMPANIMENTS)</td>\n",
              "    </tr>\n",
              "    <tr>\n",
              "      <th>10</th>\n",
              "      <td>0.016385</td>\n",
              "      <td>(DRIED FRUITS)</td>\n",
              "    </tr>\n",
              "    <tr>\n",
              "      <th>20</th>\n",
              "      <td>0.005181</td>\n",
              "      <td>(TREACLE)</td>\n",
              "    </tr>\n",
              "    <tr>\n",
              "      <th>37</th>\n",
              "      <td>0.004871</td>\n",
              "      <td>(ESSENCE)</td>\n",
              "    </tr>\n",
              "    <tr>\n",
              "      <th>38</th>\n",
              "      <td>0.000221</td>\n",
              "      <td>(PET CARE)</td>\n",
              "    </tr>\n",
              "  </tbody>\n",
              "</table>\n",
              "</div>"
            ],
            "text/plain": [
              "     support               itemsets\n",
              "0   0.315473             (BEVERAGE)\n",
              "1   0.184616              (BISCUIT)\n",
              "7   0.181561        (CONFECTIONERY)\n",
              "13  0.170401           (VEGETABLES)\n",
              "18  0.149721        (PERSONAL CARE)\n",
              "8   0.131299               (SNACKS)\n",
              "33  0.115667        (DRINKING MILK)\n",
              "2   0.106589            (CLEANSERS)\n",
              "22  0.103135               (FRUITS)\n",
              "23  0.094500            (SEASONING)\n",
              "17  0.089275          (DRY RATIONS)\n",
              "5   0.084138              (YOGHURT)\n",
              "30  0.065849               (BAKERY)\n",
              "15  0.064520              (SPREADS)\n",
              "16  0.059339        (PASTA NOODLES)\n",
              "9   0.057789         (INSTANT FOOD)\n",
              "34  0.054468               (FROZEN)\n",
              "31  0.053760                 (MEAT)\n",
              "3   0.053361          (MILK POWDER)\n",
              "14  0.046276                 (EGGS)\n",
              "24  0.045789            (HOUSEHOLD)\n",
              "11  0.043575                (SUGAR)\n",
              "26  0.039368                 (FISH)\n",
              "12  0.037419        (BABY PRODUCTS)\n",
              "21  0.037153              (DESSERT)\n",
              "25  0.036312                (FLOUR)\n",
              "32  0.034452                (BREAD)\n",
              "28  0.030910             (MEDICINE)\n",
              "35  0.030245              (GARNISH)\n",
              "29  0.027943           (STATIONERY)\n",
              "19  0.027765                (SAUCE)\n",
              "4   0.024843              (INCENSE)\n",
              "27  0.024223          (COOKING OIL)\n",
              "6   0.020326               (CEREAL)\n",
              "36  0.018599  (MEAL ACCOMPANIMENTS)\n",
              "10  0.016385         (DRIED FRUITS)\n",
              "20  0.005181              (TREACLE)\n",
              "37  0.004871              (ESSENCE)\n",
              "38  0.000221             (PET CARE)"
            ]
          },
          "execution_count": 168,
          "metadata": {},
          "output_type": "execute_result"
        }
      ],
      "source": [
        "# find the min support of each product category\n",
        "# 1/22582 = 0.00004 : each product category is bought at least one time \n",
        "fp_len_1itemset_prod = fpgrowth(newitemsdf2_, min_support=0.00004, use_colnames=True, max_len=1)\n",
        "fp_len_1itemset_prod.sort_values(by='support', ascending=False)"
      ]
    },
    {
      "cell_type": "code",
      "execution_count": null,
      "metadata": {
        "id": "VRsJhJr5GvGp",
        "outputId": "d354acf0-24e1-41f8-fee4-87369fd39e77"
      },
      "outputs": [
        {
          "data": {
            "text/html": [
              "<div>\n",
              "<style scoped>\n",
              "    .dataframe tbody tr th:only-of-type {\n",
              "        vertical-align: middle;\n",
              "    }\n",
              "\n",
              "    .dataframe tbody tr th {\n",
              "        vertical-align: top;\n",
              "    }\n",
              "\n",
              "    .dataframe thead th {\n",
              "        text-align: right;\n",
              "    }\n",
              "</style>\n",
              "<table border=\"1\" class=\"dataframe\">\n",
              "  <thead>\n",
              "    <tr style=\"text-align: right;\">\n",
              "      <th></th>\n",
              "      <th>support</th>\n",
              "      <th>itemsets</th>\n",
              "    </tr>\n",
              "  </thead>\n",
              "  <tbody>\n",
              "    <tr>\n",
              "      <th>29</th>\n",
              "      <td>0.027943</td>\n",
              "      <td>(STATIONERY)</td>\n",
              "    </tr>\n",
              "    <tr>\n",
              "      <th>19</th>\n",
              "      <td>0.027765</td>\n",
              "      <td>(SAUCE)</td>\n",
              "    </tr>\n",
              "    <tr>\n",
              "      <th>4</th>\n",
              "      <td>0.024843</td>\n",
              "      <td>(INCENSE)</td>\n",
              "    </tr>\n",
              "    <tr>\n",
              "      <th>27</th>\n",
              "      <td>0.024223</td>\n",
              "      <td>(COOKING OIL)</td>\n",
              "    </tr>\n",
              "    <tr>\n",
              "      <th>6</th>\n",
              "      <td>0.020326</td>\n",
              "      <td>(CEREAL)</td>\n",
              "    </tr>\n",
              "    <tr>\n",
              "      <th>36</th>\n",
              "      <td>0.018599</td>\n",
              "      <td>(MEAL ACCOMPANIMENTS)</td>\n",
              "    </tr>\n",
              "    <tr>\n",
              "      <th>10</th>\n",
              "      <td>0.016385</td>\n",
              "      <td>(DRIED FRUITS)</td>\n",
              "    </tr>\n",
              "    <tr>\n",
              "      <th>20</th>\n",
              "      <td>0.005181</td>\n",
              "      <td>(TREACLE)</td>\n",
              "    </tr>\n",
              "    <tr>\n",
              "      <th>37</th>\n",
              "      <td>0.004871</td>\n",
              "      <td>(ESSENCE)</td>\n",
              "    </tr>\n",
              "    <tr>\n",
              "      <th>38</th>\n",
              "      <td>0.000221</td>\n",
              "      <td>(PET CARE)</td>\n",
              "    </tr>\n",
              "  </tbody>\n",
              "</table>\n",
              "</div>"
            ],
            "text/plain": [
              "     support               itemsets\n",
              "29  0.027943           (STATIONERY)\n",
              "19  0.027765                (SAUCE)\n",
              "4   0.024843              (INCENSE)\n",
              "27  0.024223          (COOKING OIL)\n",
              "6   0.020326               (CEREAL)\n",
              "36  0.018599  (MEAL ACCOMPANIMENTS)\n",
              "10  0.016385         (DRIED FRUITS)\n",
              "20  0.005181              (TREACLE)\n",
              "37  0.004871              (ESSENCE)\n",
              "38  0.000221             (PET CARE)"
            ]
          },
          "execution_count": 169,
          "metadata": {},
          "output_type": "execute_result"
        }
      ],
      "source": [
        "fp_len_1itemset_prod.sort_values(by='support', ascending=False).tail(10)"
      ]
    },
    {
      "cell_type": "code",
      "execution_count": null,
      "metadata": {
        "id": "50cd6f1YGvGp",
        "outputId": "7cfc1203-ccc7-4c57-8154-a68c449462f0"
      },
      "outputs": [
        {
          "data": {
            "text/plain": [
              "Text(0.5, 0, 'Support')"
            ]
          },
          "execution_count": 173,
          "metadata": {},
          "output_type": "execute_result"
        },
        {
          "data": {
            "image/png": "[encoded data removed]",
            "text/plain": [
              "<Figure size 432x288 with 1 Axes>"
            ]
          },
          "metadata": {
            "needs_background": "light"
          },
          "output_type": "display_data"
        }
      ],
      "source": [
        "fp_len_1itemset_prod['support'].plot(kind='hist', bins=80)\n",
        "plt.title('Support of all 39 products')\n",
        "plt.xlabel('Support')\n",
        "# support of each product category\n",
        "# not normally distributed "
      ]
    },
    {
      "cell_type": "code",
      "execution_count": null,
      "metadata": {
        "id": "ZVsvV4kCGvGp",
        "outputId": "24a3109f-6d6b-4d5c-8efb-e1ff00022adc"
      },
      "outputs": [
        {
          "data": {
            "text/plain": [
              "0.06890557262534942"
            ]
          },
          "execution_count": 77,
          "metadata": {},
          "output_type": "execute_result"
        }
      ],
      "source": [
        "fp_len_1itemset_prod['support'].mean()"
      ]
    },
    {
      "cell_type": "code",
      "execution_count": null,
      "metadata": {
        "id": "jVRADMAyGvGp",
        "outputId": "f659a857-a87f-4313-e6b4-25e889b70abc"
      },
      "outputs": [
        {
          "data": {
            "text/plain": [
              "0.046275794880878574"
            ]
          },
          "execution_count": 78,
          "metadata": {},
          "output_type": "execute_result"
        }
      ],
      "source": [
        "fp_len_1itemset_prod['support'].median()\n",
        "# select median support as the threshold support"
      ]
    },
    {
      "cell_type": "code",
      "execution_count": null,
      "metadata": {
        "id": "d-hab2AXGvGq",
        "outputId": "f4eec959-57a8-4bc0-aa18-3877a74c6461"
      },
      "outputs": [
        {
          "name": "stderr",
          "output_type": "stream",
          "text": [
            "C:\\Users\\HP\\anaconda3\\lib\\site-packages\\mlxtend\\frequent_patterns\\fpcommon.py:111: DeprecationWarning: DataFrames with non-bool types result in worse computationalperformance and their support might be discontinued in the future.Please use a DataFrame with bool type\n",
            "  warnings.warn(\n"
          ]
        },
        {
          "data": {
            "text/plain": [
              "0.21864557266235352"
            ]
          },
          "execution_count": 174,
          "metadata": {},
          "output_type": "execute_result"
        }
      ],
      "source": [
        "t1=time.time()\n",
        "apriori(newitemsdf2_, min_support=0.05, use_colnames=True)\n",
        "t2=time.time()\n",
        "(t2-t1)"
      ]
    },
    {
      "cell_type": "code",
      "execution_count": null,
      "metadata": {
        "id": "UhS7SMluGvGq",
        "outputId": "fbeec243-e91f-4ceb-9790-ec7e2594f589"
      },
      "outputs": [
        {
          "name": "stderr",
          "output_type": "stream",
          "text": [
            "C:\\Users\\HP\\anaconda3\\lib\\site-packages\\mlxtend\\frequent_patterns\\fpcommon.py:111: DeprecationWarning: DataFrames with non-bool types result in worse computationalperformance and their support might be discontinued in the future.Please use a DataFrame with bool type\n",
            "  warnings.warn(\n"
          ]
        },
        {
          "data": {
            "text/plain": [
              "0.21341514587402344"
            ]
          },
          "execution_count": 175,
          "metadata": {},
          "output_type": "execute_result"
        }
      ],
      "source": [
        "t1=time.time()\n",
        "fpgrowth(newitemsdf2_, min_support=0.05, use_colnames=True)\n",
        "t2=time.time()\n",
        "(t2-t1)"
      ]
    },
    {
      "cell_type": "code",
      "execution_count": null,
      "metadata": {
        "id": "Ext_Oc4nGvGq",
        "outputId": "2aaa9fa0-cc11-42f7-a03b-4002b10d48d2"
      },
      "outputs": [
        {
          "data": {
            "text/plain": [
              "1580.7400000000002"
            ]
          },
          "execution_count": 81,
          "metadata": {},
          "output_type": "execute_result"
        }
      ],
      "source": [
        "0.07*22582"
      ]
    },
    {
      "cell_type": "markdown",
      "metadata": {
        "id": "E3lk67YlGvGr"
      },
      "source": [
        "# 2 itemset for products - median"
      ]
    },
    {
      "cell_type": "code",
      "execution_count": null,
      "metadata": {
        "id": "dgn0l2REGvGs",
        "outputId": "d00770bd-3872-4de3-ce44-a31e5cb83d63"
      },
      "outputs": [
        {
          "name": "stderr",
          "output_type": "stream",
          "text": [
            "C:\\Users\\HP\\anaconda3\\lib\\site-packages\\mlxtend\\frequent_patterns\\fpcommon.py:111: DeprecationWarning: DataFrames with non-bool types result in worse computationalperformance and their support might be discontinued in the future.Please use a DataFrame with bool type\n",
            "  warnings.warn(\n"
          ]
        },
        {
          "data": {
            "text/html": [
              "<div>\n",
              "<style scoped>\n",
              "    .dataframe tbody tr th:only-of-type {\n",
              "        vertical-align: middle;\n",
              "    }\n",
              "\n",
              "    .dataframe tbody tr th {\n",
              "        vertical-align: top;\n",
              "    }\n",
              "\n",
              "    .dataframe thead th {\n",
              "        text-align: right;\n",
              "    }\n",
              "</style>\n",
              "<table border=\"1\" class=\"dataframe\">\n",
              "  <thead>\n",
              "    <tr style=\"text-align: right;\">\n",
              "      <th></th>\n",
              "      <th>support</th>\n",
              "      <th>itemsets</th>\n",
              "    </tr>\n",
              "  </thead>\n",
              "  <tbody>\n",
              "    <tr>\n",
              "      <th>0</th>\n",
              "      <td>0.184616</td>\n",
              "      <td>(BISCUIT)</td>\n",
              "    </tr>\n",
              "    <tr>\n",
              "      <th>1</th>\n",
              "      <td>0.315473</td>\n",
              "      <td>(BEVERAGE)</td>\n",
              "    </tr>\n",
              "    <tr>\n",
              "      <th>2</th>\n",
              "      <td>0.053361</td>\n",
              "      <td>(MILK POWDER)</td>\n",
              "    </tr>\n",
              "    <tr>\n",
              "      <th>3</th>\n",
              "      <td>0.106589</td>\n",
              "      <td>(CLEANSERS)</td>\n",
              "    </tr>\n",
              "    <tr>\n",
              "      <th>4</th>\n",
              "      <td>0.084138</td>\n",
              "      <td>(YOGHURT)</td>\n",
              "    </tr>\n",
              "    <tr>\n",
              "      <th>5</th>\n",
              "      <td>0.057789</td>\n",
              "      <td>(INSTANT FOOD)</td>\n",
              "    </tr>\n",
              "    <tr>\n",
              "      <th>6</th>\n",
              "      <td>0.181561</td>\n",
              "      <td>(CONFECTIONERY)</td>\n",
              "    </tr>\n",
              "    <tr>\n",
              "      <th>7</th>\n",
              "      <td>0.131299</td>\n",
              "      <td>(SNACKS)</td>\n",
              "    </tr>\n",
              "    <tr>\n",
              "      <th>8</th>\n",
              "      <td>0.170401</td>\n",
              "      <td>(VEGETABLES)</td>\n",
              "    </tr>\n",
              "    <tr>\n",
              "      <th>9</th>\n",
              "      <td>0.064520</td>\n",
              "      <td>(SPREADS)</td>\n",
              "    </tr>\n",
              "    <tr>\n",
              "      <th>10</th>\n",
              "      <td>0.059339</td>\n",
              "      <td>(PASTA NOODLES)</td>\n",
              "    </tr>\n",
              "    <tr>\n",
              "      <th>11</th>\n",
              "      <td>0.089275</td>\n",
              "      <td>(DRY RATIONS)</td>\n",
              "    </tr>\n",
              "    <tr>\n",
              "      <th>12</th>\n",
              "      <td>0.149721</td>\n",
              "      <td>(PERSONAL CARE)</td>\n",
              "    </tr>\n",
              "    <tr>\n",
              "      <th>13</th>\n",
              "      <td>0.094500</td>\n",
              "      <td>(SEASONING)</td>\n",
              "    </tr>\n",
              "    <tr>\n",
              "      <th>14</th>\n",
              "      <td>0.103135</td>\n",
              "      <td>(FRUITS)</td>\n",
              "    </tr>\n",
              "    <tr>\n",
              "      <th>15</th>\n",
              "      <td>0.065849</td>\n",
              "      <td>(BAKERY)</td>\n",
              "    </tr>\n",
              "    <tr>\n",
              "      <th>16</th>\n",
              "      <td>0.053760</td>\n",
              "      <td>(MEAT)</td>\n",
              "    </tr>\n",
              "    <tr>\n",
              "      <th>17</th>\n",
              "      <td>0.115667</td>\n",
              "      <td>(DRINKING MILK)</td>\n",
              "    </tr>\n",
              "    <tr>\n",
              "      <th>18</th>\n",
              "      <td>0.054468</td>\n",
              "      <td>(FROZEN)</td>\n",
              "    </tr>\n",
              "    <tr>\n",
              "      <th>19</th>\n",
              "      <td>0.067443</td>\n",
              "      <td>(BISCUIT, BEVERAGE)</td>\n",
              "    </tr>\n",
              "    <tr>\n",
              "      <th>20</th>\n",
              "      <td>0.057125</td>\n",
              "      <td>(CONFECTIONERY, BISCUIT)</td>\n",
              "    </tr>\n",
              "    <tr>\n",
              "      <th>21</th>\n",
              "      <td>0.060756</td>\n",
              "      <td>(CONFECTIONERY, BEVERAGE)</td>\n",
              "    </tr>\n",
              "    <tr>\n",
              "      <th>22</th>\n",
              "      <td>0.053228</td>\n",
              "      <td>(SNACKS, BEVERAGE)</td>\n",
              "    </tr>\n",
              "    <tr>\n",
              "      <th>23</th>\n",
              "      <td>0.054512</td>\n",
              "      <td>(PERSONAL CARE, BEVERAGE)</td>\n",
              "    </tr>\n",
              "  </tbody>\n",
              "</table>\n",
              "</div>"
            ],
            "text/plain": [
              "     support                   itemsets\n",
              "0   0.184616                  (BISCUIT)\n",
              "1   0.315473                 (BEVERAGE)\n",
              "2   0.053361              (MILK POWDER)\n",
              "3   0.106589                (CLEANSERS)\n",
              "4   0.084138                  (YOGHURT)\n",
              "5   0.057789             (INSTANT FOOD)\n",
              "6   0.181561            (CONFECTIONERY)\n",
              "7   0.131299                   (SNACKS)\n",
              "8   0.170401               (VEGETABLES)\n",
              "9   0.064520                  (SPREADS)\n",
              "10  0.059339            (PASTA NOODLES)\n",
              "11  0.089275              (DRY RATIONS)\n",
              "12  0.149721            (PERSONAL CARE)\n",
              "13  0.094500                (SEASONING)\n",
              "14  0.103135                   (FRUITS)\n",
              "15  0.065849                   (BAKERY)\n",
              "16  0.053760                     (MEAT)\n",
              "17  0.115667            (DRINKING MILK)\n",
              "18  0.054468                   (FROZEN)\n",
              "19  0.067443        (BISCUIT, BEVERAGE)\n",
              "20  0.057125   (CONFECTIONERY, BISCUIT)\n",
              "21  0.060756  (CONFECTIONERY, BEVERAGE)\n",
              "22  0.053228         (SNACKS, BEVERAGE)\n",
              "23  0.054512  (PERSONAL CARE, BEVERAGE)"
            ]
          },
          "execution_count": 178,
          "metadata": {},
          "output_type": "execute_result"
        }
      ],
      "source": [
        "fp_tree_len2_prod = apriori(newitemsdf2_, min_support=0.05, use_colnames=True)\n",
        "fp_tree_len2_prod"
      ]
    },
    {
      "cell_type": "markdown",
      "source": [
        "association rule mining"
      ],
      "metadata": {
        "id": "52-cpf-K2fZu"
      }
    },
    {
      "cell_type": "code",
      "execution_count": null,
      "metadata": {
        "id": "ZS58gtSHGvGs"
      },
      "outputs": [],
      "source": [
        "fp_tree_rules = association_rules(fp_tree_len2_prod, metric=\"lift\", min_threshold=1)"
      ]
    },
    {
      "cell_type": "code",
      "execution_count": null,
      "metadata": {
        "id": "ItjHW96DGvGs",
        "outputId": "e169feba-e266-4693-883a-50ea005e6e8b"
      },
      "outputs": [
        {
          "data": {
            "text/html": [
              "<div>\n",
              "<style scoped>\n",
              "    .dataframe tbody tr th:only-of-type {\n",
              "        vertical-align: middle;\n",
              "    }\n",
              "\n",
              "    .dataframe tbody tr th {\n",
              "        vertical-align: top;\n",
              "    }\n",
              "\n",
              "    .dataframe thead th {\n",
              "        text-align: right;\n",
              "    }\n",
              "</style>\n",
              "<table border=\"1\" class=\"dataframe\">\n",
              "  <thead>\n",
              "    <tr style=\"text-align: right;\">\n",
              "      <th></th>\n",
              "      <th>antecedents</th>\n",
              "      <th>consequents</th>\n",
              "      <th>antecedent support</th>\n",
              "      <th>consequent support</th>\n",
              "      <th>support</th>\n",
              "      <th>confidence</th>\n",
              "      <th>lift</th>\n",
              "      <th>leverage</th>\n",
              "      <th>conviction</th>\n",
              "    </tr>\n",
              "  </thead>\n",
              "  <tbody>\n",
              "    <tr>\n",
              "      <th>0</th>\n",
              "      <td>(BISCUIT)</td>\n",
              "      <td>(BEVERAGE)</td>\n",
              "      <td>0.184616</td>\n",
              "      <td>0.315473</td>\n",
              "      <td>0.067443</td>\n",
              "      <td>0.365315</td>\n",
              "      <td>1.157995</td>\n",
              "      <td>0.009202</td>\n",
              "      <td>1.078532</td>\n",
              "    </tr>\n",
              "    <tr>\n",
              "      <th>1</th>\n",
              "      <td>(BEVERAGE)</td>\n",
              "      <td>(BISCUIT)</td>\n",
              "      <td>0.315473</td>\n",
              "      <td>0.184616</td>\n",
              "      <td>0.067443</td>\n",
              "      <td>0.213784</td>\n",
              "      <td>1.157995</td>\n",
              "      <td>0.009202</td>\n",
              "      <td>1.037100</td>\n",
              "    </tr>\n",
              "    <tr>\n",
              "      <th>2</th>\n",
              "      <td>(CONFECTIONERY)</td>\n",
              "      <td>(BISCUIT)</td>\n",
              "      <td>0.181561</td>\n",
              "      <td>0.184616</td>\n",
              "      <td>0.057125</td>\n",
              "      <td>0.314634</td>\n",
              "      <td>1.704262</td>\n",
              "      <td>0.023606</td>\n",
              "      <td>1.189706</td>\n",
              "    </tr>\n",
              "    <tr>\n",
              "      <th>3</th>\n",
              "      <td>(BISCUIT)</td>\n",
              "      <td>(CONFECTIONERY)</td>\n",
              "      <td>0.184616</td>\n",
              "      <td>0.181561</td>\n",
              "      <td>0.057125</td>\n",
              "      <td>0.309427</td>\n",
              "      <td>1.704262</td>\n",
              "      <td>0.023606</td>\n",
              "      <td>1.185159</td>\n",
              "    </tr>\n",
              "    <tr>\n",
              "      <th>4</th>\n",
              "      <td>(CONFECTIONERY)</td>\n",
              "      <td>(BEVERAGE)</td>\n",
              "      <td>0.181561</td>\n",
              "      <td>0.315473</td>\n",
              "      <td>0.060756</td>\n",
              "      <td>0.334634</td>\n",
              "      <td>1.060740</td>\n",
              "      <td>0.003479</td>\n",
              "      <td>1.028799</td>\n",
              "    </tr>\n",
              "    <tr>\n",
              "      <th>5</th>\n",
              "      <td>(BEVERAGE)</td>\n",
              "      <td>(CONFECTIONERY)</td>\n",
              "      <td>0.315473</td>\n",
              "      <td>0.181561</td>\n",
              "      <td>0.060756</td>\n",
              "      <td>0.192588</td>\n",
              "      <td>1.060740</td>\n",
              "      <td>0.003479</td>\n",
              "      <td>1.013658</td>\n",
              "    </tr>\n",
              "    <tr>\n",
              "      <th>6</th>\n",
              "      <td>(SNACKS)</td>\n",
              "      <td>(BEVERAGE)</td>\n",
              "      <td>0.131299</td>\n",
              "      <td>0.315473</td>\n",
              "      <td>0.053228</td>\n",
              "      <td>0.405396</td>\n",
              "      <td>1.285045</td>\n",
              "      <td>0.011807</td>\n",
              "      <td>1.151233</td>\n",
              "    </tr>\n",
              "    <tr>\n",
              "      <th>7</th>\n",
              "      <td>(BEVERAGE)</td>\n",
              "      <td>(SNACKS)</td>\n",
              "      <td>0.315473</td>\n",
              "      <td>0.131299</td>\n",
              "      <td>0.053228</td>\n",
              "      <td>0.168725</td>\n",
              "      <td>1.285045</td>\n",
              "      <td>0.011807</td>\n",
              "      <td>1.045023</td>\n",
              "    </tr>\n",
              "    <tr>\n",
              "      <th>8</th>\n",
              "      <td>(PERSONAL CARE)</td>\n",
              "      <td>(BEVERAGE)</td>\n",
              "      <td>0.149721</td>\n",
              "      <td>0.315473</td>\n",
              "      <td>0.054512</td>\n",
              "      <td>0.364093</td>\n",
              "      <td>1.154121</td>\n",
              "      <td>0.007280</td>\n",
              "      <td>1.076459</td>\n",
              "    </tr>\n",
              "    <tr>\n",
              "      <th>9</th>\n",
              "      <td>(BEVERAGE)</td>\n",
              "      <td>(PERSONAL CARE)</td>\n",
              "      <td>0.315473</td>\n",
              "      <td>0.149721</td>\n",
              "      <td>0.054512</td>\n",
              "      <td>0.172796</td>\n",
              "      <td>1.154121</td>\n",
              "      <td>0.007280</td>\n",
              "      <td>1.027895</td>\n",
              "    </tr>\n",
              "  </tbody>\n",
              "</table>\n",
              "</div>"
            ],
            "text/plain": [
              "       antecedents      consequents  antecedent support  consequent support  \\\n",
              "0        (BISCUIT)       (BEVERAGE)            0.184616            0.315473   \n",
              "1       (BEVERAGE)        (BISCUIT)            0.315473            0.184616   \n",
              "2  (CONFECTIONERY)        (BISCUIT)            0.181561            0.184616   \n",
              "3        (BISCUIT)  (CONFECTIONERY)            0.184616            0.181561   \n",
              "4  (CONFECTIONERY)       (BEVERAGE)            0.181561            0.315473   \n",
              "5       (BEVERAGE)  (CONFECTIONERY)            0.315473            0.181561   \n",
              "6         (SNACKS)       (BEVERAGE)            0.131299            0.315473   \n",
              "7       (BEVERAGE)         (SNACKS)            0.315473            0.131299   \n",
              "8  (PERSONAL CARE)       (BEVERAGE)            0.149721            0.315473   \n",
              "9       (BEVERAGE)  (PERSONAL CARE)            0.315473            0.149721   \n",
              "\n",
              "    support  confidence      lift  leverage  conviction  \n",
              "0  0.067443    0.365315  1.157995  0.009202    1.078532  \n",
              "1  0.067443    0.213784  1.157995  0.009202    1.037100  \n",
              "2  0.057125    0.314634  1.704262  0.023606    1.189706  \n",
              "3  0.057125    0.309427  1.704262  0.023606    1.185159  \n",
              "4  0.060756    0.334634  1.060740  0.003479    1.028799  \n",
              "5  0.060756    0.192588  1.060740  0.003479    1.013658  \n",
              "6  0.053228    0.405396  1.285045  0.011807    1.151233  \n",
              "7  0.053228    0.168725  1.285045  0.011807    1.045023  \n",
              "8  0.054512    0.364093  1.154121  0.007280    1.076459  \n",
              "9  0.054512    0.172796  1.154121  0.007280    1.027895  "
            ]
          },
          "execution_count": 86,
          "metadata": {},
          "output_type": "execute_result"
        }
      ],
      "source": [
        "fp_tree_rules"
      ]
    },
    {
      "cell_type": "code",
      "execution_count": null,
      "metadata": {
        "colab": {
          "base_uri": "https://localhost:8080/",
          "height": 424
        },
        "id": "nkCUMhmlGvGs",
        "outputId": "04665eed-4d61-4a4f-e3d8-442916665f1d"
      },
      "outputs": [
        {
          "data": {
            "text/html": [
              "\n",
              "  <div id=\"df-5f9bbce9-032e-4f65-a4fa-ebecd3c39879\">\n",
              "    <div class=\"colab-df-container\">\n",
              "      <div>\n",
              "<style scoped>\n",
              "    .dataframe tbody tr th:only-of-type {\n",
              "        vertical-align: middle;\n",
              "    }\n",
              "\n",
              "    .dataframe tbody tr th {\n",
              "        vertical-align: top;\n",
              "    }\n",
              "\n",
              "    .dataframe thead th {\n",
              "        text-align: right;\n",
              "    }\n",
              "</style>\n",
              "<table border=\"1\" class=\"dataframe\">\n",
              "  <thead>\n",
              "    <tr style=\"text-align: right;\">\n",
              "      <th></th>\n",
              "      <th>antecedents</th>\n",
              "      <th>consequents</th>\n",
              "      <th>antecedent support</th>\n",
              "      <th>consequent support</th>\n",
              "      <th>support</th>\n",
              "      <th>confidence</th>\n",
              "      <th>lift</th>\n",
              "      <th>leverage</th>\n",
              "      <th>conviction</th>\n",
              "    </tr>\n",
              "  </thead>\n",
              "  <tbody>\n",
              "    <tr>\n",
              "      <th>6</th>\n",
              "      <td>SNACKS</td>\n",
              "      <td>BEVERAGE</td>\n",
              "      <td>0.131299</td>\n",
              "      <td>0.315472</td>\n",
              "      <td>0.053228</td>\n",
              "      <td>0.405396</td>\n",
              "      <td>1.285045</td>\n",
              "      <td>0.011807</td>\n",
              "      <td>1.151233</td>\n",
              "    </tr>\n",
              "    <tr>\n",
              "      <th>0</th>\n",
              "      <td>BISCUIT</td>\n",
              "      <td>BEVERAGE</td>\n",
              "      <td>0.184616</td>\n",
              "      <td>0.315472</td>\n",
              "      <td>0.067443</td>\n",
              "      <td>0.365315</td>\n",
              "      <td>1.157995</td>\n",
              "      <td>0.009202</td>\n",
              "      <td>1.078532</td>\n",
              "    </tr>\n",
              "    <tr>\n",
              "      <th>8</th>\n",
              "      <td>PERSONAL CARE</td>\n",
              "      <td>BEVERAGE</td>\n",
              "      <td>0.149721</td>\n",
              "      <td>0.315472</td>\n",
              "      <td>0.054512</td>\n",
              "      <td>0.364093</td>\n",
              "      <td>1.154121</td>\n",
              "      <td>0.007280</td>\n",
              "      <td>1.076459</td>\n",
              "    </tr>\n",
              "    <tr>\n",
              "      <th>4</th>\n",
              "      <td>CONFECTIONERY</td>\n",
              "      <td>BEVERAGE</td>\n",
              "      <td>0.181561</td>\n",
              "      <td>0.315472</td>\n",
              "      <td>0.060756</td>\n",
              "      <td>0.334634</td>\n",
              "      <td>1.060740</td>\n",
              "      <td>0.003479</td>\n",
              "      <td>1.028799</td>\n",
              "    </tr>\n",
              "    <tr>\n",
              "      <th>2</th>\n",
              "      <td>CONFECTIONERY</td>\n",
              "      <td>BISCUIT</td>\n",
              "      <td>0.181561</td>\n",
              "      <td>0.184616</td>\n",
              "      <td>0.057125</td>\n",
              "      <td>0.314634</td>\n",
              "      <td>1.704262</td>\n",
              "      <td>0.023606</td>\n",
              "      <td>1.189706</td>\n",
              "    </tr>\n",
              "    <tr>\n",
              "      <th>3</th>\n",
              "      <td>BISCUIT</td>\n",
              "      <td>CONFECTIONERY</td>\n",
              "      <td>0.184616</td>\n",
              "      <td>0.181561</td>\n",
              "      <td>0.057125</td>\n",
              "      <td>0.309427</td>\n",
              "      <td>1.704262</td>\n",
              "      <td>0.023606</td>\n",
              "      <td>1.185159</td>\n",
              "    </tr>\n",
              "    <tr>\n",
              "      <th>1</th>\n",
              "      <td>BEVERAGE</td>\n",
              "      <td>BISCUIT</td>\n",
              "      <td>0.315472</td>\n",
              "      <td>0.184616</td>\n",
              "      <td>0.067443</td>\n",
              "      <td>0.213784</td>\n",
              "      <td>1.157995</td>\n",
              "      <td>0.009202</td>\n",
              "      <td>1.037100</td>\n",
              "    </tr>\n",
              "    <tr>\n",
              "      <th>5</th>\n",
              "      <td>BEVERAGE</td>\n",
              "      <td>CONFECTIONERY</td>\n",
              "      <td>0.315472</td>\n",
              "      <td>0.181561</td>\n",
              "      <td>0.060756</td>\n",
              "      <td>0.192588</td>\n",
              "      <td>1.060740</td>\n",
              "      <td>0.003479</td>\n",
              "      <td>1.013658</td>\n",
              "    </tr>\n",
              "    <tr>\n",
              "      <th>9</th>\n",
              "      <td>BEVERAGE</td>\n",
              "      <td>PERSONAL CARE</td>\n",
              "      <td>0.315472</td>\n",
              "      <td>0.149721</td>\n",
              "      <td>0.054512</td>\n",
              "      <td>0.172796</td>\n",
              "      <td>1.154121</td>\n",
              "      <td>0.007280</td>\n",
              "      <td>1.027895</td>\n",
              "    </tr>\n",
              "    <tr>\n",
              "      <th>7</th>\n",
              "      <td>BEVERAGE</td>\n",
              "      <td>SNACKS</td>\n",
              "      <td>0.315472</td>\n",
              "      <td>0.131299</td>\n",
              "      <td>0.053228</td>\n",
              "      <td>0.168725</td>\n",
              "      <td>1.285045</td>\n",
              "      <td>0.011807</td>\n",
              "      <td>1.045023</td>\n",
              "    </tr>\n",
              "  </tbody>\n",
              "</table>\n",
              "</div>\n",
              "      <button class=\"colab-df-convert\" onclick=\"convertToInteractive('df-5f9bbce9-032e-4f65-a4fa-ebecd3c39879')\"\n",
              "              title=\"Convert this dataframe to an interactive table.\"\n",
              "              style=\"display:none;\">\n",
              "        \n",
              "  <svg xmlns=\"http://www.w3.org/2000/svg\" height=\"24px\"viewBox=\"0 0 24 24\"\n",
              "       width=\"24px\">\n",
              "    <path d=\"M0 0h24v24H0V0z\" fill=\"none\"/>\n",
              "    <path d=\"M18.56 5.44l.94 2.06.94-2.06 2.06-.94-2.06-.94-.94-2.06-.94 2.06-2.06.94zm-11 1L8.5 8.5l.94-2.06 2.06-.94-2.06-.94L8.5 2.5l-.94 2.06-2.06.94zm10 10l.94 2.06.94-2.06 2.06-.94-2.06-.94-.94-2.06-.94 2.06-2.06.94z\"/><path d=\"M17.41 7.96l-1.37-1.37c-.4-.4-.92-.59-1.43-.59-.52 0-1.04.2-1.43.59L10.3 9.45l-7.72 7.72c-.78.78-.78 2.05 0 2.83L4 21.41c.39.39.9.59 1.41.59.51 0 1.02-.2 1.41-.59l7.78-7.78 2.81-2.81c.8-.78.8-2.07 0-2.86zM5.41 20L4 18.59l7.72-7.72 1.47 1.35L5.41 20z\"/>\n",
              "  </svg>\n",
              "      </button>\n",
              "      \n",
              "  <style>\n",
              "    .colab-df-container {\n",
              "      display:flex;\n",
              "      flex-wrap:wrap;\n",
              "      gap: 12px;\n",
              "    }\n",
              "\n",
              "    .colab-df-convert {\n",
              "      background-color: #E8F0FE;\n",
              "      border: none;\n",
              "      border-radius: 50%;\n",
              "      cursor: pointer;\n",
              "      display: none;\n",
              "      fill: #1967D2;\n",
              "      height: 32px;\n",
              "      padding: 0 0 0 0;\n",
              "      width: 32px;\n",
              "    }\n",
              "\n",
              "    .colab-df-convert:hover {\n",
              "      background-color: #E2EBFA;\n",
              "      box-shadow: 0px 1px 2px rgba(60, 64, 67, 0.3), 0px 1px 3px 1px rgba(60, 64, 67, 0.15);\n",
              "      fill: #174EA6;\n",
              "    }\n",
              "\n",
              "    [theme=dark] .colab-df-convert {\n",
              "      background-color: #3B4455;\n",
              "      fill: #D2E3FC;\n",
              "    }\n",
              "\n",
              "    [theme=dark] .colab-df-convert:hover {\n",
              "      background-color: #434B5C;\n",
              "      box-shadow: 0px 1px 3px 1px rgba(0, 0, 0, 0.15);\n",
              "      filter: drop-shadow(0px 1px 2px rgba(0, 0, 0, 0.3));\n",
              "      fill: #FFFFFF;\n",
              "    }\n",
              "  </style>\n",
              "\n",
              "      <script>\n",
              "        const buttonEl =\n",
              "          document.querySelector('#df-5f9bbce9-032e-4f65-a4fa-ebecd3c39879 button.colab-df-convert');\n",
              "        buttonEl.style.display =\n",
              "          google.colab.kernel.accessAllowed ? 'block' : 'none';\n",
              "\n",
              "        async function convertToInteractive(key) {\n",
              "          const element = document.querySelector('#df-5f9bbce9-032e-4f65-a4fa-ebecd3c39879');\n",
              "          const dataTable =\n",
              "            await google.colab.kernel.invokeFunction('convertToInteractive',\n",
              "                                                     [key], {});\n",
              "          if (!dataTable) return;\n",
              "\n",
              "          const docLinkHtml = 'Like what you see? Visit the ' +\n",
              "            '<a target=\"_blank\" href=https://colab.research.google.com/notebooks/data_table.ipynb>data table notebook</a>'\n",
              "            + ' to learn more about interactive tables.';\n",
              "          element.innerHTML = '';\n",
              "          dataTable['output_type'] = 'display_data';\n",
              "          await google.colab.output.renderOutput(dataTable, element);\n",
              "          const docLink = document.createElement('div');\n",
              "          docLink.innerHTML = docLinkHtml;\n",
              "          element.appendChild(docLink);\n",
              "        }\n",
              "      </script>\n",
              "    </div>\n",
              "  </div>\n",
              "  "
            ],
            "text/plain": [
              "     antecedents    consequents  antecedent support  consequent support  \\\n",
              "6         SNACKS       BEVERAGE            0.131299            0.315472   \n",
              "0        BISCUIT       BEVERAGE            0.184616            0.315472   \n",
              "8  PERSONAL CARE       BEVERAGE            0.149721            0.315472   \n",
              "4  CONFECTIONERY       BEVERAGE            0.181561            0.315472   \n",
              "2  CONFECTIONERY        BISCUIT            0.181561            0.184616   \n",
              "3        BISCUIT  CONFECTIONERY            0.184616            0.181561   \n",
              "1       BEVERAGE        BISCUIT            0.315472            0.184616   \n",
              "5       BEVERAGE  CONFECTIONERY            0.315472            0.181561   \n",
              "9       BEVERAGE  PERSONAL CARE            0.315472            0.149721   \n",
              "7       BEVERAGE         SNACKS            0.315472            0.131299   \n",
              "\n",
              "    support  confidence      lift  leverage  conviction  \n",
              "6  0.053228    0.405396  1.285045  0.011807    1.151233  \n",
              "0  0.067443    0.365315  1.157995  0.009202    1.078532  \n",
              "8  0.054512    0.364093  1.154121  0.007280    1.076459  \n",
              "4  0.060756    0.334634  1.060740  0.003479    1.028799  \n",
              "2  0.057125    0.314634  1.704262  0.023606    1.189706  \n",
              "3  0.057125    0.309427  1.704262  0.023606    1.185159  \n",
              "1  0.067443    0.213784  1.157995  0.009202    1.037100  \n",
              "5  0.060756    0.192588  1.060740  0.003479    1.013658  \n",
              "9  0.054512    0.172796  1.154121  0.007280    1.027895  \n",
              "7  0.053228    0.168725  1.285045  0.011807    1.045023  "
            ]
          },
          "execution_count": 49,
          "metadata": {},
          "output_type": "execute_result"
        }
      ],
      "source": [
        "fp_rules_sup005_sort = fp_tree_rules.sort_values(by=['confidence', 'lift'], ascending=False)\n",
        "fp_rules_sup005_sort"
      ]
    },
    {
      "cell_type": "markdown",
      "source": [
        "association rule visualization of product category"
      ],
      "metadata": {
        "id": "Z6rrJxvE2i_w"
      }
    },
    {
      "cell_type": "code",
      "execution_count": null,
      "metadata": {
        "colab": {
          "base_uri": "https://localhost:8080/",
          "height": 319
        },
        "id": "kP1OnUD4_EMa",
        "outputId": "68d88cc8-e5aa-466c-c7e8-7809821ecc88"
      },
      "outputs": [
        {
          "data": {
            "image/png": "[encoded data removed]",
            "text/plain": [
              "<Figure size 432x288 with 1 Axes>"
            ]
          },
          "metadata": {},
          "output_type": "display_data"
        }
      ],
      "source": [
        "G = nx.from_pandas_edgelist(fp_rules_sup005_sort, source='antecedents', target='consequents', edge_attr='lift')\n",
        "pos = nx.kamada_kawai_layout(G)\n",
        "nx.draw(G, pos, with_labels=True,node_color='lightpink', font_size=11, edge_cmap=plt.cm.Reds)\n",
        "labels = nx.get_edge_attributes(G, 'lift')\n",
        "# edges=nx.draw_networkx_edges(G, pos, width='lift', edge_color='black')\n",
        "nx.draw_networkx_edge_labels(G, pos, edge_labels=labels, font_size=11)\n",
        "ax = plt.gca()\n",
        "ax.set_xlim([min(x for x,y in pos.values())-0.25, max(x for x,y in pos.values())+0.2])\n",
        "ax.set_ylim([min(y for x,y in pos.values())-0.15, max(y for x,y in pos.values())+0.15])\n",
        "plt.axis('on')\n",
        "plt.show()"
      ]
    }
  ],
  "metadata": {
    "colab": {
      "provenance": [],
      "toc_visible": true
    },
    "kernelspec": {
      "display_name": "Python 3 (ipykernel)",
      "language": "python",
      "name": "python3"
    },
    "language_info": {
      "codemirror_mode": {
        "name": "ipython",
        "version": 3
      },
      "file_extension": ".py",
      "mimetype": "text/x-python",
      "name": "python",
      "nbconvert_exporter": "python",
      "pygments_lexer": "ipython3",
      "version": "3.9.7"
    }
  },
  "nbformat": 4,
  "nbformat_minor": 0
}